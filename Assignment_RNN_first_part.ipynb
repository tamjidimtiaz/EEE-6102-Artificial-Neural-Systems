{
  "nbformat": 4,
  "nbformat_minor": 0,
  "metadata": {
    "accelerator": "GPU",
    "colab": {
      "name": "Assignment_RNN.ipynb",
      "provenance": [],
      "collapsed_sections": [],
      "toc_visible": true
    },
    "kernelspec": {
      "name": "python3",
      "display_name": "Python 3"
    },
    "language_info": {
      "codemirror_mode": {
        "name": "ipython",
        "version": 3
      },
      "file_extension": ".py",
      "mimetype": "text/x-python",
      "name": "python",
      "nbconvert_exporter": "python",
      "pygments_lexer": "ipython3",
      "version": "3.7.2"
    }
  },
  "cells": [
    {
      "cell_type": "markdown",
      "metadata": {
        "id": "ArGnixElhPXN"
      },
      "source": [
        "# Install dependencies\n",
        "\n",
        "To ensure that this assignment runs properly on the Colab environment, we must install a few libraries using the `pip` utility."
      ]
    },
    {
      "cell_type": "code",
      "metadata": {
        "id": "UwebZdYMhPXT",
        "colab": {
          "base_uri": "https://localhost:8080/"
        },
        "outputId": "d70b4310-2fb9-4848-8f77-43a0b6fa896d"
      },
      "source": [
        "import copy\n",
        "import time\n",
        "import os\n",
        "\n",
        "import numpy as np\n",
        "import matplotlib.pyplot as plt\n",
        "%matplotlib inline\n",
        "\n",
        "import torch\n",
        "import torch.nn as nn\n",
        "import torch.nn.functional as F\n",
        "import torch.nn.init as init\n",
        "import torch.optim as optim\n",
        "\n",
        "from torch.utils.data import DataLoader, TensorDataset\n",
        "\n",
        "\n",
        "use_gpu = torch.cuda.is_available()\n",
        "device = torch.device(\"cuda:0\" if use_gpu else \"cpu\")\n",
        "\n",
        "# Setting the seed to a fixed value can be helpful in reproducing results\n",
        "seed = 42\n",
        "torch.manual_seed(seed)\n",
        "torch.cuda.manual_seed(seed)\n",
        "\n",
        "print(\"PyTorch version: \", torch.__version__)\n",
        "print(\"GPU available: {}\".format(use_gpu))"
      ],
      "execution_count": null,
      "outputs": [
        {
          "output_type": "stream",
          "text": [
            "PyTorch version:  1.8.0+cu101\n",
            "GPU available: True\n"
          ],
          "name": "stdout"
        }
      ]
    },
    {
      "cell_type": "markdown",
      "metadata": {
        "id": "4Y-PnqdMhPXX"
      },
      "source": [
        "\n",
        "# Objective\n",
        "\n",
        "Our goal is to build a recurrent model capable of adding an arbitrary series of numbers. It is all in all a fairly simple task (any pocket calculator can trivially do it) yet it will demonstrate that this procedure can be learned from data. Further, we will use it to outline certain limitations of RNNs compared to LSTMs.\n"
      ]
    },
    {
      "cell_type": "markdown",
      "metadata": {
        "id": "nihkB--rz6WL"
      },
      "source": [
        "# Data description\n",
        "\n",
        "Our data is composed a set of sequences of numbers each associated with the target, which is sum of each element in that sequence. In other words, the input to our model will be a vector $\\mathbf x^{(i)} = \\left[x_{1}^{i}, x_{2}^{i}, \\dots, x_{T}^{i}\\right]$ of length $T$ and a target $y^{(i)}$ given by:\n",
        "\n",
        "\\begin{align}  \n",
        "y^{(i)}=\\sum_{j=1}^{T}x^{(i)}_j,\n",
        "\\end{align}\n",
        "\n",
        "where $j$ indexes time.\n",
        "\n",
        "For example, for the input $\\mathbf x^{(i)}$ of length $4$, we have:\n",
        "\n",
        "\\begin{align}  \n",
        "\\mathbf x^{(i)} &= \\left[ 4,-1,15,24\\right]; \\\\ \n",
        "y^{(i)} &= 42.\n",
        "\\end{align}\n",
        "\n",
        "We will use our data to train both an RNN and an LSTM."
      ]
    },
    {
      "cell_type": "markdown",
      "metadata": {
        "id": "zZNrVvS8hPXY"
      },
      "source": [
        "# Generating the dataset\n",
        "\n",
        "It will be useful to have a function that can generate random datasets of `n_samples` sequences each of length `seq_length`. To do so we will rely on the function [torch.randint()](https://pytorch.org/docs/stable/torch.html#torch.randint). The function `generate_data` takes as input the following arguments:\n",
        "- **n_samples** (int): number of sequences to generate.\n",
        "- **seq_len** (int): length of each sequence.\n",
        "- **input_dim** (int, optional): dimension of the input data. Default: 1.\n",
        "- **xmin** (float, optional): minimum possible value in the sequence. Default: -100.\n",
        "- **xmax** (float, optional): maximum possible value in the sequence. Default: -100.\n",
        "\n",
        "It returns a tuple of two elements corresponding respectively to:\n",
        "- **X** ([torch.FloatTensor](https://pytorch.org/docs/stable/tensors.html)): A tensor of shape $n\\_samples \\times seq\\_len \\times input\\_dim$ representing a set of `n_samples` sequences, each of length `seq_len`. The elements of the sequences are of dimension `input_dim`.\n",
        "- **Y** ([torch.FloatTensor](https://pytorch.org/docs/stable/tensors.html)): A tensor of shape $n\\_samples \\times  input\\_dim$ representing the corresponding sum of the elements for each sequence in `X`."
      ]
    },
    {
      "cell_type": "code",
      "metadata": {
        "code_folding": [],
        "id": "nKFfyWFahPXZ"
      },
      "source": [
        "def generate_data(n_samples, seq_len, input_dim=1, xmin=-100, xmax=100):\n",
        "    \"\"\"Generate tensors X and Y within the [xmin, xmax] interval.\n",
        "    \n",
        "    Args : \n",
        "      n_samples: int, number of sequences to generate\n",
        "      seq_len: int, length of each sequence\n",
        "      input_dim: int, dimension of the input data\n",
        "      xmin: minimum possible value in the sequence\n",
        "      xmax: maximum possible value in the sequence\n",
        "    \n",
        "    Returns: n_samples sequence of numbers X and associated targets Y in this\n",
        "             format torch.Tensor where X.shape = (n_samples, seq_len, 1)\n",
        "             and Y.shape = (n_samples, 1).\n",
        "    \"\"\"\n",
        "    X = torch.randint(xmin, xmax+1, (n_samples, seq_len, input_dim))\n",
        "    Y = X.sum(dim=1)\n",
        "    \n",
        "    return X, Y"
      ],
      "execution_count": null,
      "outputs": []
    },
    {
      "cell_type": "markdown",
      "metadata": {
        "id": "PJdyRkUoj4qI"
      },
      "source": [
        "The following piece of code shows an example of how to use the `generate_data` function. In this example, we are generating 1000 sequences of numbers, each one of lenght 4."
      ]
    },
    {
      "cell_type": "code",
      "metadata": {
        "id": "URAZtBZxjTXD",
        "colab": {
          "base_uri": "https://localhost:8080/"
        },
        "outputId": "57262a1a-45d7-40d1-f752-9229e99f36a1"
      },
      "source": [
        "n_samples = 1000\n",
        "seq_len = 4\n",
        "input_dim = 1\n",
        "X, Y = generate_data(n_samples, seq_len, input_dim, -100, 100)\n",
        "print(\"Tensor dimensions X = {}\".format(X.shape))\n",
        "print(\"where n_samples = {}, seq_len = {}, input_dim = {}\".format(*X.shape))\n",
        "print(\"data example: {}\".format(X[0,:,0]))"
      ],
      "execution_count": null,
      "outputs": [
        {
          "output_type": "stream",
          "text": [
            "Tensor dimensions X = torch.Size([1000, 4, 1])\n",
            "where n_samples = 1000, seq_len = 4, input_dim = 1\n",
            "data example: tensor([ 71,  40, -84,  81])\n"
          ],
          "name": "stdout"
        }
      ]
    },
    {
      "cell_type": "markdown",
      "metadata": {
        "id": "s1wHZ_PFhPXf"
      },
      "source": [
        "# Standardizing data\n",
        "\n",
        "To help the training of our model we will first standardize the input data such that it has, overall, `mean` 0 and standard deviation (`stdev`) 1. To do so we simply calculate the mean and std of our data and then substract the former and divide by the latter. In addition, we will store these two values for later usage. This standardization often speeds up learning.\n"
      ]
    },
    {
      "cell_type": "code",
      "metadata": {
        "id": "UdL_y85mhPXg"
      },
      "source": [
        "def standardize(X):\n",
        "    \"\"\"The function standardizes the X tensor. \n",
        "    Args:\n",
        "      X: torch.Tensor.\n",
        "    \n",
        "    Returns:\n",
        "      Xs: torch.Tensor standardize.\n",
        "      Ys: torch.Tensor, the (new) sum of Xs.\n",
        "      mean: float, the mean of X.\n",
        "      stdev: float, the stdev of X.\n",
        "    \"\"\"\n",
        "    \n",
        "    X=X.float()\n",
        "    mean = torch.mean(X)\n",
        "    std = torch.std(X)\n",
        "    Xs = (X-mean) / std\n",
        "    Ys = Xs.sum(dim=1)\n",
        "    \n",
        "    return Xs, Ys, mean, std\n"
      ],
      "execution_count": null,
      "outputs": []
    },
    {
      "cell_type": "markdown",
      "metadata": {
        "id": "FxZa-OJJsrnQ"
      },
      "source": [
        "An example of how to use the above defined function is shown below. Here, after generating the data using the generate_data function, we use the standardize function to standardize it."
      ]
    },
    {
      "cell_type": "code",
      "metadata": {
        "id": "T2Lw5IutmbmW",
        "colab": {
          "base_uri": "https://localhost:8080/"
        },
        "outputId": "dc49d42e-ed61-4fef-d751-148e7f728a3f"
      },
      "source": [
        "X, Y = generate_data(n_samples, seq_len, input_dim, -100, 100)\n",
        "example_before = X[0,:,0]\n",
        "Xs, Ys, mean, std = standardize(X)\n",
        "print(\"mean = {:.4f}, std = {:.4f}\".format(mean, std))\n",
        "print('example before standardization: {}'.format(X[0,:,0]),\n",
        "      '\\nexample after standardization: {}'.format(Xs[0,:,0])\n",
        ")"
      ],
      "execution_count": null,
      "outputs": [
        {
          "output_type": "stream",
          "text": [
            "mean = 0.5472, std = 58.2220\n",
            "example before standardization: tensor([-55,  70, -84,  -9]) \n",
            "example after standardization: tensor([-0.9541,  1.1929, -1.4522, -0.1640])\n"
          ],
          "name": "stdout"
        }
      ]
    },
    {
      "cell_type": "markdown",
      "metadata": {
        "id": "wCm8xalthPXj"
      },
      "source": [
        "# RNN implementation \n",
        "\n",
        "We will define our RNN model using the PyTorch class `torch.nn.RNN()`. Once initialized, it takes input data `X` of shape `(seq_len, batch_size, input_dim)` (recall that we will use `input_dim=1` for our task). We then add a linear layer to transform the last hidden recurrent state to have the same dimensionality as `Y` which has size `(batch_size, input_dim)` (again `input_dim=1`). "
      ]
    },
    {
      "cell_type": "code",
      "metadata": {
        "id": "36rq_UoVG0xV"
      },
      "source": [
        "class RNNLinear(nn.Module):\n",
        "\n",
        "    def __init__(self, input_dim, output_dim, hidden_size, n_layers):\n",
        "        super(RNNLinear, self).__init__()\n",
        "        self.rnn = nn.RNN(input_dim,\n",
        "                          hidden_size,\n",
        "                          n_layers)\n",
        "        \n",
        "        self.linear = nn.Linear(hidden_size, output_dim)\n",
        "        \n",
        "    def forward(self, x):\n",
        "        # The RNN's input must be of size (seq_len, batch_size, input_dim)\n",
        "        x = x.transpose(0, 1) \n",
        "        output, _ = self.rnn(x)\n",
        "        pred = self.linear(output[-1])\n",
        "        return pred"
      ],
      "execution_count": null,
      "outputs": []
    },
    {
      "cell_type": "markdown",
      "metadata": {
        "id": "fBuEIPdxytWp"
      },
      "source": [
        "Here is an example of how this class can be used to predict the values of the sequences in Xs."
      ]
    },
    {
      "cell_type": "code",
      "metadata": {
        "id": "jNxsM-5ryIYH",
        "colab": {
          "base_uri": "https://localhost:8080/"
        },
        "outputId": "21625783-350c-4592-f67b-868238efd136"
      },
      "source": [
        "n_samples = 50\n",
        "seq_len = 4\n",
        "input_dim = 1\n",
        "output_dim = 1\n",
        "n_layers = 2\n",
        "hidden_size = 20\n",
        "\n",
        "# Data generation\n",
        "X, Y = generate_data(n_samples, seq_len, input_dim, -100, 100)\n",
        "Xs, Ys, mean, std = standardize(X)\n",
        "\n",
        "# Declaration of the RNN model\n",
        "model_rnn = RNNLinear(input_dim, output_dim, hidden_size, n_layers)\n",
        "\n",
        "# Transfer the model to the proper device\n",
        "model_rnn = model_rnn.to(device)\n",
        "\n",
        "# save its initial weights\n",
        "init_rnn_weights = copy.deepcopy(model_rnn.state_dict())\n",
        "\n",
        "# Transfer the data to the proper device\n",
        "Xs = Xs.to(device)\n",
        "\n",
        "# Use the RNN to predict the output of each input sequence prior to training\n",
        "# Ensure that the inputs and output are correct\n",
        "y_pred = model_rnn(Xs)\n",
        "print(\"Size of input data: {}\".format(Xs.shape)) # (n_samples, seq_len, input_dim)\n",
        "print(\"Size of predictions: {}\".format(y_pred.shape)) # (n_samples, input_dim)"
      ],
      "execution_count": null,
      "outputs": [
        {
          "output_type": "stream",
          "text": [
            "Size of input data: torch.Size([50, 4, 1])\n",
            "Size of predictions: torch.Size([50, 1])\n"
          ],
          "name": "stdout"
        }
      ]
    },
    {
      "cell_type": "markdown",
      "metadata": {
        "id": "jg8vsRduhPYH"
      },
      "source": [
        "# LSTM implementation\n",
        "\n",
        "We will now implement an LSTM model using the PyTorch class [torch.nn.LSTM()](https://pytorch.org/docs/stable/nn.html?highlight=lstm#torch.nn.LSTM). Just like with the RNN, we will need to add a linear layer to transform the last recurrent state of our LSTM to have the same dimensions of our target `Y` which has size `(batch_size, input_dim)` (with `input_dim=1` as above).\n"
      ]
    },
    {
      "cell_type": "code",
      "metadata": {
        "id": "lqMaUDDVhPYH"
      },
      "source": [
        "class LSTMLinear(nn.Module):\n",
        "    \n",
        "    def __init__(self, input_dim, output_dim, hidden_size, n_layers):\n",
        "        super(LSTMLinear, self).__init__()\n",
        "        self.LSTM = nn.LSTM(input_dim,\n",
        "                            hidden_size,\n",
        "                            n_layers)\n",
        "        \n",
        "        self.linear = nn.Linear(hidden_size, output_dim)\n",
        "        \n",
        "    def forward(self, x):\n",
        "        # the input to an LSTM must be of size (seq_len, batch_size, input_dim)\n",
        "        x = x.transpose(0, 1)\n",
        "        output, _ = self.LSTM(x)\n",
        "        pred = self.linear(output[-1])\n",
        "        \n",
        "        return pred\n",
        "    "
      ],
      "execution_count": null,
      "outputs": []
    },
    {
      "cell_type": "markdown",
      "metadata": {
        "id": "JucyE-Y54j2X"
      },
      "source": [
        "Here is an example of how this class can be used to predict the values of the sequences in Xs."
      ]
    },
    {
      "cell_type": "code",
      "metadata": {
        "id": "t48-FY7d4qQP",
        "colab": {
          "base_uri": "https://localhost:8080/"
        },
        "outputId": "a921790d-3330-45e4-b785-9dd22c6b0ecf"
      },
      "source": [
        "n_samples = 50\n",
        "seq_len = 4\n",
        "input_dim = 1\n",
        "output_dim = 1\n",
        "n_layers = 2\n",
        "hidden_size = 20\n",
        "\n",
        "# Data generation\n",
        "X, Y = generate_data(n_samples, seq_len, input_dim, -100, 100)\n",
        "Xs, Ys, mean, std = standardize(X)\n",
        "\n",
        "# Declaration of the LSTM model\n",
        "model_lstm = LSTMLinear(input_dim, output_dim, hidden_size, n_layers)\n",
        "\n",
        "# Transfer the model to the proper device\n",
        "model_lstm = model_lstm.to(device)\n",
        "\n",
        "# save its initial weights\n",
        "init_lstm_weights = copy.deepcopy(model_lstm.state_dict())\n",
        "\n",
        "# Transfer the data to the proper device\n",
        "Xs = Xs.to(device)\n",
        "\n",
        "# Use the RNN to predict the output of each input sequence prior to training\n",
        "# Ensure that the inputs and output are correct\n",
        "y_pred = model_lstm(Xs)\n",
        "print(\"Size of input data: {}\".format(Xs.shape)) # (n_samples, seq_len, input_dim)\n",
        "print(\"Size of predictions: {}\".format(y_pred.shape)) # (n_samples, input_dim)"
      ],
      "execution_count": null,
      "outputs": [
        {
          "output_type": "stream",
          "text": [
            "Size of input data: torch.Size([50, 4, 1])\n",
            "Size of predictions: torch.Size([50, 1])\n"
          ],
          "name": "stdout"
        }
      ]
    },
    {
      "cell_type": "markdown",
      "metadata": {
        "id": "T6aIPUXR50aJ"
      },
      "source": [
        "# Splitting the data into train/validation/test\n",
        "\n",
        "We will use PyTorch's DataLoader objects to efficiently manipulate our data. \n",
        "\n",
        "We will generate 20,000 sequences and use 80% of those for training, 10% for validation, and 10% for testing. We can use the following functions [torch.utils.data.TensorDataset()](https://pytorch.org/docs/stable/data.html) and [torch.utils.data.DataLoader()](https://pytorch.org/docs/stable/data.html) to prepare our Dataloader.\n",
        "\n",
        "Use the following values: \n",
        "\n",
        "`seq_len = 18` \n",
        "\n",
        "`batch_size = 64`\n",
        "\n",
        "`n_samples = 25000`"
      ]
    },
    {
      "cell_type": "code",
      "metadata": {
        "code_folding": [],
        "id": "PzSCKyyMhPXq"
      },
      "source": [
        "from torch.utils.data import DataLoader, TensorDataset\n",
        "\n",
        "n_samples = 25000\n",
        "seq_len = 18\n",
        "batch_size = 64\n",
        "input_dim = 1\n",
        "# generate the data:\n",
        "X, Y = generate_data(n_samples, seq_len, input_dim, -100, 100) # To complete.\n",
        "# and standardize it:\n",
        "Xs, Ys, mean, std = standardize(X) # To complete.\n",
        "xtrain, ytrain = Xs[:round(0.8*n_samples)], Ys[:round(0.8*n_samples)]\n",
        "xvalid, yvalid = Xs[round(0.8*n_samples):round(0.9*n_samples)], Ys[round(0.8*n_samples):round(0.9*n_samples)]\n",
        "xtest, ytest = Xs[round(0.9*n_samples):], Ys[round(0.9*n_samples):]\n",
        "\n",
        "# dataloader for the training dataset\n",
        "train_loader = DataLoader(TensorDataset(xtrain, ytrain), batch_size, shuffle=True)\n",
        "\n",
        "# do the dataloader for the validation dataset\n",
        "valid_loader = DataLoader(TensorDataset(xvalid, yvalid), batch_size, shuffle=True) # To complete.\n",
        "# dataloader for the test dataset\n",
        "test_loader = DataLoader(TensorDataset(xtest, ytest), batch_size, shuffle=True) # To complete."
      ],
      "execution_count": null,
      "outputs": []
    },
    {
      "cell_type": "markdown",
      "metadata": {
        "id": "W8IdyMkZjRs7"
      },
      "source": [
        "# Training the RNN-based model"
      ]
    },
    {
      "cell_type": "markdown",
      "metadata": {
        "id": "ow4dIMYT2gek"
      },
      "source": [
        "## Defining the cost and the optimizer\n",
        "\n",
        "Recall that a cost function  $J(\\theta) = L(x, y, \\theta)$ takes as input a prediction and the target and evaluates some distance (or discrepancy) between both.  For this example, we will use the mean squared error cost which is standard for regression problems (see [torch.nn.MSELoss()](https://pytorch.org/docs/stable/nn.html)):\n",
        "\n",
        "$J(\\cdot) = \\frac{1}{N}\\sum_{i=1}^{N} (\\hat{y}_{i} - y_i)^{2}$.\n",
        "\n",
        "\n",
        "To optimize the parameters of our networks we will use the *stochastic gradient descent* (SGD) optimizer. It minimizes the cost function $J(\\theta)$ parametrized by the networks' weights $\\theta$ by updating them using the following update rule: $\\theta \\leftarrow \\theta - \\alpha \\nabla J(\\theta)$, where  $\\alpha$ is the *learning rate*. The specificity of SGD is that it will calculate the gradient $\\nabla$ using a single (or a small number of) example(s) instead of the full training data.\n",
        "\n",
        "In PyTorch we will use <a href=\"http://pytorch.org/docs/master/optim.html#torch.optim.SGD\">`torch.optim.SGD()`</a> which is a SGD implementation. In this example, we will use a learning rate of 0.001.\n",
        "\n",
        "Complete the following piece of code by defining the MSE criterion and the optimizer."
      ]
    },
    {
      "cell_type": "code",
      "metadata": {
        "id": "6SidKvG6hPXu"
      },
      "source": [
        "learning_rate = 0.001\n",
        "\n",
        "# Define the Criterion\n",
        "criterion = nn.MSELoss() # To complete.\n",
        "\n",
        "# Define the Optimizer\n",
        "optimizer_rnn = torch.optim.SGD(model_rnn.parameters(), lr=0.001) # To complete."
      ],
      "execution_count": null,
      "outputs": []
    },
    {
      "cell_type": "markdown",
      "metadata": {
        "id": "pBrLb8PdhPXw"
      },
      "source": [
        "##Training the model\n",
        "\n",
        "To train out model, we will use our `train_loader` object to iterate over our entire training sets *n_epoch* times. \n",
        "To measure progress we will store the validation cost at the end of each training *epoch*. We will use `n_epoch = 25`.\n",
        "\n",
        "Complete the following piece of code with the instructions correponding to the related comments."
      ]
    },
    {
      "cell_type": "code",
      "metadata": {
        "id": "e9a-gjjVhPXx",
        "scrolled": false,
        "colab": {
          "base_uri": "https://localhost:8080/"
        },
        "outputId": "d45df5be-15ad-4ad8-bec2-c2d243903df8"
      },
      "source": [
        "since = time.time()\n",
        "\n",
        "\n",
        "train_loss_history = []\n",
        "valid_loss_history = []\n",
        "\n",
        "n_epoch = 25\n",
        "\n",
        "model_rnn.load_state_dict(init_rnn_weights)\n",
        "\n",
        "print(\"Start training\")\n",
        "\n",
        "for epoch in range(n_epoch):\n",
        "    \n",
        "    train_loss = 0\n",
        "    train_n_iter = 0\n",
        "    \n",
        "    # Set model to train mode\n",
        "    model_rnn.train()\n",
        "    torch.set_grad_enabled(True)\n",
        "    \n",
        "    # Iterate over train data\n",
        "    for x, y in train_loader:  \n",
        "\n",
        "        \n",
        "        # Put tensors on device (GPU when available)\n",
        "        xtrain = xtrain.to(device)# To complete.\n",
        "        ytrain = ytrain.to(device)\n",
        "        # Zero the gradient buffer\n",
        "        optimizer_rnn.zero_grad() # To complete.        \n",
        "        # Perform the Forward operation\n",
        "\n",
        "        # Use the RNN to predict the output of each input sequence prior to training\n",
        "        # Ensure that the inputs and output are correct\n",
        "        outputs = model_rnn(xtrain)       \n",
        "        # Calculate the loss using the criterion function\n",
        "        loss = criterion(ytrain, outputs) # To complete.        \n",
        "        # Perform the Backward operation\n",
        "        loss.backward() # To complete.        \n",
        "        # Perform the Optimization step\n",
        "        optimizer_rnn.step() # To complete.        \n",
        "        # Statistics\n",
        "        train_loss += loss.item()\n",
        "        train_n_iter += 1\n",
        "    \n",
        "    valid_loss = 0\n",
        "    valid_n_iter = 0\n",
        "    \n",
        "    # Set model to evaluate mode\n",
        "    model_rnn.eval()\n",
        "    with torch.no_grad():\n",
        "    \n",
        "        # Iterate over valid data\n",
        "        for x, y in valid_loader:  \n",
        "        \n",
        "            # Put tensors on device (GPU when available)\n",
        "            xvalid = xvalid.to(device)# To complete.\n",
        "            yvalid = yvalid.to(device) # To complete.        \n",
        "            # Perform the Forward operation\n",
        "            outputs = model_rnn(xvalid) # To complete.            \n",
        "            # Calculate the loss using the criterion function\n",
        "            loss = criterion(yvalid, outputs) # To complete.        \n",
        "            # Statistics\n",
        "            valid_loss += loss.item()\n",
        "            valid_n_iter += 1\n",
        "    \n",
        "    train_loss_history.append(train_loss / train_n_iter)\n",
        "    valid_loss_history.append(valid_loss / valid_n_iter)\n",
        "\n",
        "\n",
        "    print(\"Epoch {:2d} | Training loss = {:.5f} | Validation loss = {:.5f} \"\n",
        "          .format(epoch+1, (train_loss / train_n_iter), (valid_loss / valid_n_iter)))\n",
        "\n",
        "time_elapsed = time.time() - since\n",
        "\n",
        "print('\\n\\nTraining complete in {:.0f}m {:.0f}s'.format(\n",
        "    time_elapsed // 60, time_elapsed % 60))"
      ],
      "execution_count": null,
      "outputs": [
        {
          "output_type": "stream",
          "text": [
            "Start training\n",
            "Epoch  1 | Training loss = 17.77790 | Validation loss = 18.31916 \n",
            "Epoch  2 | Training loss = 11.26495 | Validation loss = 5.31675 \n",
            "Epoch  3 | Training loss = 4.55635 | Validation loss = 4.38638 \n",
            "Epoch  4 | Training loss = 3.79023 | Validation loss = 3.48034 \n",
            "Epoch  5 | Training loss = 2.63460 | Validation loss = 2.25506 \n",
            "Epoch  6 | Training loss = 1.86426 | Validation loss = 1.79089 \n",
            "Epoch  7 | Training loss = 1.63620 | Validation loss = 1.67007 \n",
            "Epoch  8 | Training loss = 1.51793 | Validation loss = 1.52465 \n",
            "Epoch  9 | Training loss = 1.41660 | Validation loss = 1.43939 \n",
            "Epoch 10 | Training loss = 1.31716 | Validation loss = 1.32077 \n",
            "Epoch 11 | Training loss = 1.21754 | Validation loss = 1.23588 \n",
            "Epoch 12 | Training loss = 1.11756 | Validation loss = 1.12104 \n",
            "Epoch 13 | Training loss = 1.02022 | Validation loss = 1.03729 \n",
            "Epoch 14 | Training loss = 0.92988 | Validation loss = 0.94159 \n",
            "Epoch 15 | Training loss = 0.84936 | Validation loss = 0.86775 \n",
            "Epoch 16 | Training loss = 0.77961 | Validation loss = 0.80240 \n",
            "Epoch 17 | Training loss = 0.71972 | Validation loss = 0.73863 \n",
            "Epoch 18 | Training loss = 0.66803 | Validation loss = 0.69818 \n",
            "Epoch 19 | Training loss = 0.62277 | Validation loss = 0.64061 \n",
            "Epoch 20 | Training loss = 0.58288 | Validation loss = 0.61644 \n",
            "Epoch 21 | Training loss = 0.54777 | Validation loss = 0.56511 \n",
            "Epoch 22 | Training loss = 0.51723 | Validation loss = 0.55314 \n",
            "Epoch 23 | Training loss = 0.49106 | Validation loss = 0.50943 \n",
            "Epoch 24 | Training loss = 0.46883 | Validation loss = 0.50663 \n",
            "Epoch 25 | Training loss = 0.44990 | Validation loss = 0.46955 \n",
            "\n",
            "\n",
            "Training complete in 0m 57s\n"
          ],
          "name": "stdout"
        }
      ]
    },
    {
      "cell_type": "markdown",
      "metadata": {
        "id": "wr4at5nVhPXz"
      },
      "source": [
        "## Visualizing training curves \n",
        "\n",
        "Visualize the training curves using a graph of the cost function vs. epochs for both the training and the validation data."
      ]
    },
    {
      "cell_type": "code",
      "metadata": {
        "id": "bJLu-rC_hPX1",
        "colab": {
          "base_uri": "https://localhost:8080/",
          "height": 279
        },
        "outputId": "b151b184-3068-479f-ff85-aa92bd2b3525"
      },
      "source": [
        "# Save history for later\n",
        "rnn_train_loss_history = train_loss_history\n",
        "rnn_valid_loss_history = valid_loss_history\n",
        "\n",
        "# Plot training and validation curve\n",
        "xaxis = range(1, n_epoch + 1)\n",
        "plt.plot(xaxis, rnn_train_loss_history, label='train-rnn')\n",
        "plt.plot(xaxis, rnn_valid_loss_history, label='valid-rnn')\n",
        "\n",
        "plt.xlabel('# epochs')\n",
        "plt.ylabel('Loss')\n",
        "plt.legend()\n",
        "\n",
        "plt.show()"
      ],
      "execution_count": null,
      "outputs": [
        {
          "output_type": "display_data",
          "data": {
            "image/png": "[encoded data removed]",
            "text/plain": [
              "<Figure size 432x288 with 1 Axes>"
            ]
          },
          "metadata": {
            "tags": [],
            "needs_background": "light"
          }
        }
      ]
    },
    {
      "cell_type": "markdown",
      "metadata": {
        "id": "Vi7bHNzykdby"
      },
      "source": [
        "# Training the LSTM-based model"
      ]
    },
    {
      "cell_type": "markdown",
      "metadata": {
        "id": "2RUJdIy72rZu"
      },
      "source": [
        "## Defining the cost and the optimizer\n",
        "\n",
        "Complete the following piece of code by defining the MSE criterion and the optimizer."
      ]
    },
    {
      "cell_type": "code",
      "metadata": {
        "id": "pOZIqkBbpmeo"
      },
      "source": [
        "learning_rate = 0.001\n",
        "\n",
        "# define the Criterion\n",
        "criterion = nn.MSELoss() # To complete.\n",
        "# define the optimizer\n",
        "optimizer_lstm = torch.optim.SGD(model_lstm.parameters(), lr=0.001) # To complete.\n"
      ],
      "execution_count": null,
      "outputs": []
    },
    {
      "cell_type": "markdown",
      "metadata": {
        "id": "qqnTlRq8pmew"
      },
      "source": [
        "## Training the model\n",
        "\n",
        "To train out model, we will use our `train_loader` object to iterate over our entire training sets *n_epoch* times. \n",
        "To measure progress we will store the validation cost at the end of each training *epoch*. We will use `n_epoch = 25`.\n",
        "\n",
        "Complete the following piece of code with the instructions correponding to the related comments."
      ]
    },
    {
      "cell_type": "code",
      "metadata": {
        "id": "odcwM6DyhPYL",
        "colab": {
          "base_uri": "https://localhost:8080/"
        },
        "outputId": "38bac9f8-7bf5-4e23-b396-a2ce9a49c9b5"
      },
      "source": [
        "since = time.time()\n",
        "\n",
        "\n",
        "train_loss_history = []\n",
        "valid_loss_history = []\n",
        "\n",
        "num_epochs = 25\n",
        "\n",
        "model_lstm.load_state_dict(init_lstm_weights)\n",
        "\n",
        "print(\"# Start training #\")\n",
        "\n",
        "for epoch in range(num_epochs):\n",
        "    \n",
        "    train_loss = 0\n",
        "    train_n_iter = 0\n",
        "    \n",
        "    # Set model to train mode\n",
        "    model_lstm.train()\n",
        "    torch.set_grad_enabled(True)\n",
        "    \n",
        "    # Iterate over train data\n",
        "    for x, y in train_loader:  \n",
        "\n",
        "        \n",
        "        # Put tensors on device (GPU when available)\n",
        "        xtrain = xtrain.to(device)# To complete.\n",
        "        ytrain = ytrain.to(device)\n",
        "        # Zero the gradient buffer\n",
        "        optimizer_lstm.zero_grad() # To complete.        \n",
        "        # Perform the Forward operation\n",
        "        outputs = model_lstm(xtrain) # To complete.        \n",
        "        # Calculate the loss using the criterion function\n",
        "        loss = criterion(ytrain, outputs) # To complete.        \n",
        "        # Perform the Backward operation\n",
        "        loss.backward() # To complete.        \n",
        "        # Perform the Optimization step\n",
        "        optimizer_lstm.step() # To complete.        \n",
        "        # Statistics\n",
        "        train_loss += loss.item()\n",
        "        train_n_iter += 1\n",
        "\n",
        "    valid_loss = 0\n",
        "    valid_n_iter = 0\n",
        "    \n",
        "    # Set model to evaluate mode\n",
        "    model_lstm.eval()\n",
        "    with torch.no_grad():\n",
        "    \n",
        "        # Iterate over valid data\n",
        "        for x, y in valid_loader:  \n",
        "        \n",
        "            # Put tensors on device (GPU when available)\n",
        "            xvalid = xvalid.to(device)# To complete.\n",
        "            yvalid = yvalid.to(device)        \n",
        "            # Perform the Forward operation\n",
        "            outputs = model_lstm(xvalid) # To complete.            \n",
        "            # Calculate the loss using the criterion function\n",
        "            loss = criterion(yvalid, outputs) # To complete.        \n",
        "            # Statistics\n",
        "            valid_loss += loss.item()\n",
        "            valid_n_iter += 1\n",
        "    \n",
        "    train_loss_history.append(train_loss / train_n_iter)\n",
        "    valid_loss_history.append(valid_loss / valid_n_iter)\n",
        "    \n",
        "    print(\"Epoch {:2d} | Training loss = {:.5f} | Validation loss = {:.5f} \"\n",
        "          .format(epoch+1, (train_loss / train_n_iter), (valid_loss / valid_n_iter)))\n",
        "\n",
        "time_elapsed = time.time() - since\n",
        "\n",
        "print('\\n\\nTraining complete in {:.0f}m {:.0f}s'.format(\n",
        "    time_elapsed // 60, time_elapsed % 60))"
      ],
      "execution_count": null,
      "outputs": [
        {
          "output_type": "stream",
          "text": [
            "# Start training #\n",
            "Epoch  1 | Training loss = 17.93247 | Validation loss = 18.75997 \n",
            "Epoch  2 | Training loss = 17.89157 | Validation loss = 18.73090 \n",
            "Epoch  3 | Training loss = 17.85200 | Validation loss = 18.68604 \n",
            "Epoch  4 | Training loss = 17.79244 | Validation loss = 18.60485 \n",
            "Epoch  5 | Training loss = 17.67804 | Validation loss = 18.42743 \n",
            "Epoch  6 | Training loss = 17.37224 | Validation loss = 17.83527 \n",
            "Epoch  7 | Training loss = 14.75052 | Validation loss = 9.72985 \n",
            "Epoch  8 | Training loss = 6.05167 | Validation loss = 4.46650 \n",
            "Epoch  9 | Training loss = 3.08505 | Validation loss = 2.43469 \n",
            "Epoch 10 | Training loss = 1.62897 | Validation loss = 1.42943 \n",
            "Epoch 11 | Training loss = 1.03118 | Validation loss = 1.01415 \n",
            "Epoch 12 | Training loss = 0.75823 | Validation loss = 0.78584 \n",
            "Epoch 13 | Training loss = 0.59674 | Validation loss = 0.64023 \n",
            "Epoch 14 | Training loss = 0.48916 | Validation loss = 0.53919 \n",
            "Epoch 15 | Training loss = 0.41154 | Validation loss = 0.46378 \n",
            "Epoch 16 | Training loss = 0.47315 | Validation loss = 0.51415 \n",
            "Epoch 17 | Training loss = 0.43590 | Validation loss = 0.50222 \n",
            "Epoch 18 | Training loss = 0.40285 | Validation loss = 0.44668 \n",
            "Epoch 19 | Training loss = 0.37228 | Validation loss = 0.43101 \n",
            "Epoch 20 | Training loss = 0.34371 | Validation loss = 0.38532 \n",
            "Epoch 21 | Training loss = 0.31698 | Validation loss = 0.36944 \n",
            "Epoch 22 | Training loss = 0.29221 | Validation loss = 0.33258 \n",
            "Epoch 23 | Training loss = 0.26946 | Validation loss = 0.31721 \n",
            "Epoch 24 | Training loss = 0.24878 | Validation loss = 0.28850 \n",
            "Epoch 25 | Training loss = 0.23016 | Validation loss = 0.27446 \n",
            "\n",
            "\n",
            "Training complete in 2m 41s\n"
          ],
          "name": "stdout"
        }
      ]
    },
    {
      "cell_type": "markdown",
      "metadata": {
        "id": "aMEzsqBaqGmh"
      },
      "source": [
        "## Visualizing training curves \n",
        "\n",
        "Visualize the training curves using a graph of the cost function vs. epochs for both the training and the validation data."
      ]
    },
    {
      "cell_type": "code",
      "metadata": {
        "id": "4Rw1tIfMhPYN",
        "colab": {
          "base_uri": "https://localhost:8080/",
          "height": 279
        },
        "outputId": "f52f488e-96cf-4957-ca76-95d9e1ab94f7"
      },
      "source": [
        "# Save history for later\n",
        "lstm_train_loss_history = train_loss_history\n",
        "lstm_valid_loss_history = valid_loss_history\n",
        "\n",
        "# Plot training and validation curve\n",
        "xaxis = range(1, num_epochs + 1)\n",
        "plt.plot(xaxis, lstm_train_loss_history, label='train-lstm')\n",
        "plt.plot(xaxis, lstm_valid_loss_history, label='valid-lstm')\n",
        "\n",
        "plt.xlabel('# epochs')\n",
        "plt.ylabel('Loss')\n",
        "plt.legend()\n",
        "\n",
        "plt.show()"
      ],
      "execution_count": null,
      "outputs": [
        {
          "output_type": "display_data",
          "data": {
            "image/png": "[encoded data removed]",
            "text/plain": [
              "<Figure size 432x288 with 1 Axes>"
            ]
          },
          "metadata": {
            "tags": [],
            "needs_background": "light"
          }
        }
      ]
    },
    {
      "cell_type": "markdown",
      "metadata": {
        "id": "7PCowiQxpcHv"
      },
      "source": [
        "# Analyzing the results\n",
        "\n",
        "We will now compare the RNN and the LSTM using their performance on train/validation and test sets."
      ]
    },
    {
      "cell_type": "markdown",
      "metadata": {
        "id": "KaoQgOOZKL98"
      },
      "source": [
        "## Comparing training curves\n",
        "\n",
        "\n",
        "Compare the training curves using a graph of the cost function vs. epochs for both the training and the validation data."
      ]
    },
    {
      "cell_type": "code",
      "metadata": {
        "id": "yl8hcNhnKKOS",
        "colab": {
          "base_uri": "https://localhost:8080/",
          "height": 279
        },
        "outputId": "9a9d430d-790b-4e28-ce8e-87d79fd08032"
      },
      "source": [
        "# Plot training and validation curve\n",
        "xaxis = range(1, num_epochs + 1)\n",
        "\n",
        "plt.plot(xaxis, rnn_train_loss_history, label='train-rnn')\n",
        "plt.plot(xaxis, rnn_valid_loss_history, label='valid-rnn')\n",
        "\n",
        "plt.plot(xaxis, lstm_train_loss_history, label='train-lstm', linestyle='--')\n",
        "plt.plot(xaxis, lstm_valid_loss_history, label='valid-lstm', linestyle='--')\n",
        "\n",
        "plt.xlabel('# epochs')\n",
        "plt.ylabel('Loss')\n",
        "plt.legend()\n",
        "plt.show()"
      ],
      "execution_count": null,
      "outputs": [
        {
          "output_type": "display_data",
          "data": {
            "image/png": "[encoded data removed]",
            "text/plain": [
              "<Figure size 432x288 with 1 Axes>"
            ]
          },
          "metadata": {
            "tags": [],
            "needs_background": "light"
          }
        }
      ]
    },
    {
      "cell_type": "markdown",
      "metadata": {
        "id": "BhGBAmabKr8A"
      },
      "source": [
        "#**Questions**\n",
        "\n",
        "###1. Which network works best according to validation? Why is that? \n",
        "###Answer:\n",
        "The LSTM network work best according to validation. Because, \n",
        "It is seen from the RNN architecture that the gradient vanishes after each time step which creates slow learning problem or even no learning. This vanishing gradient problem can be handled by Long Short Term Memory(LSTM) where a carry term is introduced which prevents the gradients to be vanished in the network.   \n",
        "\n",
        "###2. Assume you want to increase the gap between the RNN and LSTM performances. How would you modify the data?\n",
        "###Answer:\n",
        "Since the effect of vanishing gradient increases when the time step of the sequence is increased, a increment of the sequence length will increase the performance gap between RNN and LSTM. To prove this statement, a new experimentation is done using seq_len = 50 instead of 18 in the previous case. \n",
        "\n",
        "\n",
        "\n"
      ]
    },
    {
      "cell_type": "code",
      "metadata": {
        "id": "LfGz4EXz8YxJ"
      },
      "source": [
        "from torch.utils.data import DataLoader, TensorDataset\r\n",
        "\r\n",
        "n_samples = 25000\r\n",
        "seq_len = 50\r\n",
        "batch_size = 64\r\n",
        "input_dim = 1\r\n",
        "# generate the data:\r\n",
        "X, Y = generate_data(n_samples, seq_len, input_dim, -100, 100) # To complete.\r\n",
        "# and standardize it:\r\n",
        "Xs, Ys, mean, std = standardize(X) # To complete.\r\n",
        "xtrain, ytrain = Xs[:round(0.8*n_samples)], Ys[:round(0.8*n_samples)]\r\n",
        "xvalid, yvalid = Xs[round(0.8*n_samples):round(0.9*n_samples)], Ys[round(0.8*n_samples):round(0.9*n_samples)]\r\n",
        "xtest, ytest = Xs[round(0.9*n_samples):], Ys[round(0.9*n_samples):]\r\n",
        "\r\n",
        "# dataloader for the training dataset\r\n",
        "train_loader = DataLoader(TensorDataset(xtrain, ytrain), batch_size, shuffle=True)\r\n",
        "\r\n",
        "# do the dataloader for the validation dataset\r\n",
        "valid_loader = DataLoader(TensorDataset(xvalid, yvalid), batch_size, shuffle=True) # To complete.\r\n",
        "# dataloader for the test dataset\r\n",
        "test_loader = DataLoader(TensorDataset(xtest, ytest), batch_size, shuffle=True) # To complete."
      ],
      "execution_count": null,
      "outputs": []
    },
    {
      "cell_type": "markdown",
      "metadata": {
        "id": "Dqyj3Vuk8yEb"
      },
      "source": [
        "#### RNN Network:"
      ]
    },
    {
      "cell_type": "code",
      "metadata": {
        "id": "mRhZIN108j4s"
      },
      "source": [
        "learning_rate = 0.001\r\n",
        "\r\n",
        "# Define the Criterion\r\n",
        "criterion = nn.MSELoss() # To complete.\r\n",
        "\r\n",
        "# Define the Optimizer\r\n",
        "optimizer_rnn = torch.optim.SGD(model_rnn.parameters(), lr=0.001) # To complete."
      ],
      "execution_count": null,
      "outputs": []
    },
    {
      "cell_type": "code",
      "metadata": {
        "colab": {
          "base_uri": "https://localhost:8080/"
        },
        "id": "-mwfVPP-8rFl",
        "outputId": "9cbcdc8a-68c7-41d1-d2a3-ee430bee9062"
      },
      "source": [
        "since = time.time()\r\n",
        "\r\n",
        "\r\n",
        "train_loss_history = []\r\n",
        "valid_loss_history = []\r\n",
        "\r\n",
        "n_epoch = 25\r\n",
        "\r\n",
        "model_rnn.load_state_dict(init_rnn_weights)\r\n",
        "\r\n",
        "print(\"Start training\")\r\n",
        "\r\n",
        "for epoch in range(n_epoch):\r\n",
        "    \r\n",
        "    train_loss = 0\r\n",
        "    train_n_iter = 0\r\n",
        "    \r\n",
        "    # Set model to train mode\r\n",
        "    model_rnn.train()\r\n",
        "    torch.set_grad_enabled(True)\r\n",
        "    \r\n",
        "    # Iterate over train data\r\n",
        "    for x, y in train_loader:  \r\n",
        "\r\n",
        "        \r\n",
        "        # Put tensors on device (GPU when available)\r\n",
        "        xtrain = xtrain.to(device)# To complete.\r\n",
        "        ytrain = ytrain.to(device)\r\n",
        "        # Zero the gradient buffer\r\n",
        "        optimizer_rnn.zero_grad() # To complete.        \r\n",
        "        # Perform the Forward operation\r\n",
        "\r\n",
        "        # Use the RNN to predict the output of each input sequence prior to training\r\n",
        "        # Ensure that the inputs and output are correct\r\n",
        "        outputs = model_rnn(xtrain)       \r\n",
        "        # Calculate the loss using the criterion function\r\n",
        "        loss = criterion(ytrain, outputs) # To complete.        \r\n",
        "        # Perform the Backward operation\r\n",
        "        loss.backward() # To complete.        \r\n",
        "        # Perform the Optimization step\r\n",
        "        optimizer_rnn.step() # To complete.        \r\n",
        "        # Statistics\r\n",
        "        train_loss += loss.item()\r\n",
        "        train_n_iter += 1\r\n",
        "    \r\n",
        "    valid_loss = 0\r\n",
        "    valid_n_iter = 0\r\n",
        "    \r\n",
        "    # Set model to evaluate mode\r\n",
        "    model_rnn.eval()\r\n",
        "    with torch.no_grad():\r\n",
        "    \r\n",
        "        # Iterate over valid data\r\n",
        "        for x, y in valid_loader:  \r\n",
        "        \r\n",
        "            # Put tensors on device (GPU when available)\r\n",
        "            xvalid = xvalid.to(device)# To complete.\r\n",
        "            yvalid = yvalid.to(device) # To complete.        \r\n",
        "            # Perform the Forward operation\r\n",
        "            outputs = model_rnn(xvalid) # To complete.            \r\n",
        "            # Calculate the loss using the criterion function\r\n",
        "            loss = criterion(yvalid, outputs) # To complete.        \r\n",
        "            # Statistics\r\n",
        "            valid_loss += loss.item()\r\n",
        "            valid_n_iter += 1\r\n",
        "    \r\n",
        "    train_loss_history.append(train_loss / train_n_iter)\r\n",
        "    valid_loss_history.append(valid_loss / valid_n_iter)\r\n",
        "\r\n",
        "\r\n",
        "    print(\"Epoch {:2d} | Training loss = {:.5f} | Validation loss = {:.5f} \"\r\n",
        "          .format(epoch+1, (train_loss / train_n_iter), (valid_loss / valid_n_iter)))\r\n",
        "\r\n",
        "time_elapsed = time.time() - since\r\n",
        "\r\n",
        "print('\\n\\nTraining complete in {:.0f}m {:.0f}s'.format(\r\n",
        "    time_elapsed // 60, time_elapsed % 60))\r\n",
        "\r\n",
        "# Save history for later\r\n",
        "rnn_train_loss_history = train_loss_history\r\n",
        "rnn_valid_loss_history = valid_loss_history"
      ],
      "execution_count": null,
      "outputs": [
        {
          "output_type": "stream",
          "text": [
            "Start training\n",
            "Epoch  1 | Training loss = 50.08212 | Validation loss = 47.77029 \n",
            "Epoch  2 | Training loss = 41.18290 | Validation loss = 27.36567 \n",
            "Epoch  3 | Training loss = 28.99461 | Validation loss = 24.27049 \n",
            "Epoch  4 | Training loss = 21.42449 | Validation loss = 15.66950 \n",
            "Epoch  5 | Training loss = 15.37470 | Validation loss = 14.98805 \n",
            "Epoch  6 | Training loss = 11.52670 | Validation loss = 11.80560 \n",
            "Epoch  7 | Training loss = 8.85882 | Validation loss = 6.54519 \n",
            "Epoch  8 | Training loss = 7.33799 | Validation loss = 4.55651 \n",
            "Epoch  9 | Training loss = 23.26705 | Validation loss = 36.10926 \n",
            "Epoch 10 | Training loss = 49.01432 | Validation loss = 47.15437 \n",
            "Epoch 11 | Training loss = 45.36445 | Validation loss = 40.97234 \n",
            "Epoch 12 | Training loss = 40.07884 | Validation loss = 46.18089 \n",
            "Epoch 13 | Training loss = 35.37524 | Validation loss = 36.99791 \n",
            "Epoch 14 | Training loss = 29.95451 | Validation loss = 20.05111 \n",
            "Epoch 15 | Training loss = 23.77875 | Validation loss = 20.30213 \n",
            "Epoch 16 | Training loss = 21.31577 | Validation loss = 20.52873 \n",
            "Epoch 17 | Training loss = 18.03841 | Validation loss = 31.01253 \n",
            "Epoch 18 | Training loss = 16.88710 | Validation loss = 8.41430 \n",
            "Epoch 19 | Training loss = 14.33298 | Validation loss = 14.85506 \n",
            "Epoch 20 | Training loss = 12.50100 | Validation loss = 16.48590 \n",
            "Epoch 21 | Training loss = 11.40070 | Validation loss = 12.85911 \n",
            "Epoch 22 | Training loss = 10.30888 | Validation loss = 8.83173 \n",
            "Epoch 23 | Training loss = 9.49678 | Validation loss = 8.71373 \n",
            "Epoch 24 | Training loss = 8.62408 | Validation loss = 7.10787 \n",
            "Epoch 25 | Training loss = 7.64062 | Validation loss = 7.51563 \n",
            "\n",
            "\n",
            "Training complete in 2m 27s\n"
          ],
          "name": "stdout"
        }
      ]
    },
    {
      "cell_type": "markdown",
      "metadata": {
        "id": "x_mDSb_982ED"
      },
      "source": [
        "####LSTM Network:"
      ]
    },
    {
      "cell_type": "code",
      "metadata": {
        "id": "7421Zw0381jb"
      },
      "source": [
        "learning_rate = 0.001\r\n",
        "\r\n",
        "# define the Criterion\r\n",
        "criterion = nn.MSELoss() # To complete.\r\n",
        "# define the optimizer\r\n",
        "optimizer_lstm = torch.optim.SGD(model_lstm.parameters(), lr=0.001) # To complete.\r\n"
      ],
      "execution_count": null,
      "outputs": []
    },
    {
      "cell_type": "code",
      "metadata": {
        "colab": {
          "base_uri": "https://localhost:8080/"
        },
        "id": "km3HiiTf8_VJ",
        "outputId": "c1eaab5a-9aae-4cff-f3e1-61b25c9c9f34"
      },
      "source": [
        "since = time.time()\r\n",
        "\r\n",
        "\r\n",
        "train_loss_history = []\r\n",
        "valid_loss_history = []\r\n",
        "\r\n",
        "num_epochs = 25\r\n",
        "\r\n",
        "model_lstm.load_state_dict(init_lstm_weights)\r\n",
        "\r\n",
        "print(\"# Start training #\")\r\n",
        "\r\n",
        "for epoch in range(num_epochs):\r\n",
        "    \r\n",
        "    train_loss = 0\r\n",
        "    train_n_iter = 0\r\n",
        "    \r\n",
        "    # Set model to train mode\r\n",
        "    model_lstm.train()\r\n",
        "    torch.set_grad_enabled(True)\r\n",
        "    \r\n",
        "    # Iterate over train data\r\n",
        "    for x, y in train_loader:  \r\n",
        "\r\n",
        "        \r\n",
        "        # Put tensors on device (GPU when available)\r\n",
        "        xtrain = xtrain.to(device)# To complete.\r\n",
        "        ytrain = ytrain.to(device)\r\n",
        "        # Zero the gradient buffer\r\n",
        "        optimizer_lstm.zero_grad() # To complete.        \r\n",
        "        # Perform the Forward operation\r\n",
        "        outputs = model_lstm(xtrain) # To complete.        \r\n",
        "        # Calculate the loss using the criterion function\r\n",
        "        loss = criterion(ytrain, outputs) # To complete.        \r\n",
        "        # Perform the Backward operation\r\n",
        "        loss.backward() # To complete.        \r\n",
        "        # Perform the Optimization step\r\n",
        "        optimizer_lstm.step() # To complete.        \r\n",
        "        # Statistics\r\n",
        "        train_loss += loss.item()\r\n",
        "        train_n_iter += 1\r\n",
        "\r\n",
        "    valid_loss = 0\r\n",
        "    valid_n_iter = 0\r\n",
        "    \r\n",
        "    # Set model to evaluate mode\r\n",
        "    model_lstm.eval()\r\n",
        "    with torch.no_grad():\r\n",
        "    \r\n",
        "        # Iterate over valid data\r\n",
        "        for x, y in valid_loader:  \r\n",
        "        \r\n",
        "            # Put tensors on device (GPU when available)\r\n",
        "            xvalid = xvalid.to(device)# To complete.\r\n",
        "            yvalid = yvalid.to(device)        \r\n",
        "            # Perform the Forward operation\r\n",
        "            outputs = model_lstm(xvalid) # To complete.            \r\n",
        "            # Calculate the loss using the criterion function\r\n",
        "            loss = criterion(yvalid, outputs) # To complete.        \r\n",
        "            # Statistics\r\n",
        "            valid_loss += loss.item()\r\n",
        "            valid_n_iter += 1\r\n",
        "    \r\n",
        "    train_loss_history.append(train_loss / train_n_iter)\r\n",
        "    valid_loss_history.append(valid_loss / valid_n_iter)\r\n",
        "    \r\n",
        "    print(\"Epoch {:2d} | Training loss = {:.5f} | Validation loss = {:.5f} \"\r\n",
        "          .format(epoch+1, (train_loss / train_n_iter), (valid_loss / valid_n_iter)))\r\n",
        "\r\n",
        "time_elapsed = time.time() - since\r\n",
        "\r\n",
        "print('\\n\\nTraining complete in {:.0f}m {:.0f}s'.format(\r\n",
        "    time_elapsed // 60, time_elapsed % 60))\r\n",
        "\r\n",
        "# Save history for later\r\n",
        "lstm_train_loss_history = train_loss_history\r\n",
        "lstm_valid_loss_history = valid_loss_history"
      ],
      "execution_count": null,
      "outputs": [
        {
          "output_type": "stream",
          "text": [
            "# Start training #\n",
            "Epoch  1 | Training loss = 50.24119 | Validation loss = 48.26094 \n",
            "Epoch  2 | Training loss = 50.19949 | Validation loss = 48.23835 \n",
            "Epoch  3 | Training loss = 50.15906 | Validation loss = 48.19877 \n",
            "Epoch  4 | Training loss = 50.09768 | Validation loss = 48.12391 \n",
            "Epoch  5 | Training loss = 49.97777 | Validation loss = 47.95601 \n",
            "Epoch  6 | Training loss = 49.63991 | Validation loss = 47.34635 \n",
            "Epoch  7 | Training loss = 42.91415 | Validation loss = 29.04868 \n",
            "Epoch  8 | Training loss = 23.65297 | Validation loss = 16.00839 \n",
            "Epoch  9 | Training loss = 13.44522 | Validation loss = 10.71836 \n",
            "Epoch 10 | Training loss = 9.42042 | Validation loss = 7.69899 \n",
            "Epoch 11 | Training loss = 6.89363 | Validation loss = 5.71183 \n",
            "Epoch 12 | Training loss = 5.22390 | Validation loss = 4.41545 \n",
            "Epoch 13 | Training loss = 4.20765 | Validation loss = 3.73161 \n",
            "Epoch 14 | Training loss = 3.52667 | Validation loss = 3.13024 \n",
            "Epoch 15 | Training loss = 3.06307 | Validation loss = 2.78112 \n",
            "Epoch 16 | Training loss = 2.72740 | Validation loss = 2.52631 \n",
            "Epoch 17 | Training loss = 2.49523 | Validation loss = 2.28452 \n",
            "Epoch 18 | Training loss = 2.30365 | Validation loss = 2.15604 \n",
            "Epoch 19 | Training loss = 2.13119 | Validation loss = 1.93943 \n",
            "Epoch 20 | Training loss = 1.97996 | Validation loss = 1.86190 \n",
            "Epoch 21 | Training loss = 1.84549 | Validation loss = 1.67972 \n",
            "Epoch 22 | Training loss = 1.72269 | Validation loss = 1.62214 \n",
            "Epoch 23 | Training loss = 1.60978 | Validation loss = 1.46305 \n",
            "Epoch 24 | Training loss = 1.50576 | Validation loss = 1.41575 \n",
            "Epoch 25 | Training loss = 1.41100 | Validation loss = 1.28133 \n",
            "\n",
            "\n",
            "Training complete in 7m 27s\n"
          ],
          "name": "stdout"
        }
      ]
    },
    {
      "cell_type": "markdown",
      "metadata": {
        "id": "3AdN-P8w9ASw"
      },
      "source": [
        "####Performance Comparison"
      ]
    },
    {
      "cell_type": "code",
      "metadata": {
        "colab": {
          "base_uri": "https://localhost:8080/",
          "height": 279
        },
        "id": "ZL3CuC9i9HOh",
        "outputId": "9b4b99cb-a0af-4115-c852-73edbf8a29ae"
      },
      "source": [
        "# Plot training and validation curve\r\n",
        "xaxis = range(1, num_epochs + 1)\r\n",
        "\r\n",
        "plt.plot(xaxis, rnn_train_loss_history, label='train-rnn')\r\n",
        "plt.plot(xaxis, rnn_valid_loss_history, label='valid-rnn')\r\n",
        "\r\n",
        "plt.plot(xaxis, lstm_train_loss_history, label='train-lstm', linestyle='--')\r\n",
        "plt.plot(xaxis, lstm_valid_loss_history, label='valid-lstm', linestyle='--')\r\n",
        "\r\n",
        "plt.xlabel('# epochs')\r\n",
        "plt.ylabel('Loss')\r\n",
        "plt.legend()\r\n",
        "plt.show()"
      ],
      "execution_count": null,
      "outputs": [
        {
          "output_type": "display_data",
          "data": {
            "image/png": "[encoded data removed]",
            "text/plain": [
              "<Figure size 432x288 with 1 Axes>"
            ]
          },
          "metadata": {
            "tags": [],
            "needs_background": "light"
          }
        }
      ]
    },
    {
      "cell_type": "markdown",
      "metadata": {
        "id": "k7w5mkkr-2oC"
      },
      "source": [
        "Here, it is found that increasing the sequence length affects the performance of RNN and creating vanishing gradient problems. However, the training time must be sacrificed. "
      ]
    },
    {
      "cell_type": "markdown",
      "metadata": {
        "id": "SeWGSfEOLdsM"
      },
      "source": [
        "## Evaluating test error\n",
        "\n",
        "Complete the following piece of code in order to evaluate and print the mean squared error on the test set for both models."
      ]
    },
    {
      "cell_type": "code",
      "metadata": {
        "id": "72z2Xob3MRYB",
        "colab": {
          "base_uri": "https://localhost:8080/"
        },
        "outputId": "6586d899-8210-4795-f28c-f7ef06757e58"
      },
      "source": [
        "# Put sequence data on device (GPU when available)\n",
        "xtest = xtest.to(device) # To complete.\n",
        "# Put target data on device (GPU when available)\n",
        "ytest = ytest.to(device) # To complete.\n",
        "# Predict the value of the sequence data using the RNN-based model\n",
        "ypred_rnn = model_rnn(xtest) # To complete.\n",
        "# Predict the value of the sequence data using the LSTM-based model\n",
        "ypred_lstm = model_lstm(xtest) # To complete.\n",
        "# Compute the loss of the RNN-based model using the criterion function\n",
        "loss_test_rnn = criterion(ytest, ypred_rnn) # To complete.\n",
        "# Compute the loss of the LSTM-based model using the criterion function\n",
        "loss_test_lstm = criterion(ytest, ypred_lstm) # To complete.\n",
        "\n",
        "print(\"The RNN's test mean squared error is %2.3f\" % float(loss_test_rnn))\n",
        "print(\"The LSTM's test mean squared error is %2.3f\" % float(loss_test_lstm))"
      ],
      "execution_count": null,
      "outputs": [
        {
          "output_type": "stream",
          "text": [
            "The RNN's test mean squared error is 7.670\n",
            "The LSTM's test mean squared error is 1.351\n"
          ],
          "name": "stdout"
        }
      ]
    },
    {
      "cell_type": "markdown",
      "metadata": {
        "id": "hPZH71eCpcH0"
      },
      "source": [
        "## Further exploring the results\n",
        "\n",
        "To gain insights into our models we will inspect their outputs (i.e., their predictions before calculating the cost). To help us we will define a `print_sequence()` function. \n",
        "\n",
        "This function takes as input the tensors X and Y, samples a particular entry (sequence), prints the entry and prints the absolute difference between the true Y and the predicted Y.\n",
        "\n",
        "Recall that we have standardized our examples. For these visualizations we wish to use the original data pre-standardization. To do so, we use `mean` + `std` such that $xtest\\_unstd = xtest*std + mean$ et $ytest\\_unstd = ytest*std+seq\\_len*mean$.\n"
      ]
    },
    {
      "cell_type": "code",
      "metadata": {
        "id": "QfCvsGXNpcH2"
      },
      "source": [
        "def print_sequence(X, Y, idx=0):\n",
        "    \"\"\"Print ground truth sum and predicted values.\n",
        "    Args:\n",
        "      X: torch.Tensor.\n",
        "      Y: torch.Tensor.\n",
        "      idx: index of the sequence (entry) to use.\n",
        "    \"\"\"\n",
        "    x = X[idx].numpy()\n",
        "    y = Y[idx].numpy()\n",
        "    for i, xi in enumerate(x):\n",
        "        if i==0:\n",
        "            string = str(xi[0]) \n",
        "        else:\n",
        "            string += \" + \" + str(xi[0])\n",
        "            \n",
        "    print(\"Sequence: \", string)\n",
        "    print(\"Prediction: \", str(y[0]))\n",
        "    print(\"Ground truth value: \", str(np.sum(x)))\n",
        "    diff = abs(np.sum(x)-y[0])\n",
        "    print(\"Absolute error between X[{a}] et Y[{a}]: {b}\".format(a=idx, b=diff))"
      ],
      "execution_count": null,
      "outputs": []
    },
    {
      "cell_type": "markdown",
      "metadata": {
        "id": "0D196dQEAoxu"
      },
      "source": [
        "Complete the following piece of code by unstandardizing `xtest` and `ypred_rnn` values."
      ]
    },
    {
      "cell_type": "code",
      "metadata": {
        "id": "_aDw139hpcH_",
        "colab": {
          "base_uri": "https://localhost:8080/"
        },
        "outputId": "b7d72677-7357-4e4f-a9da-8c91dea7d493"
      },
      "source": [
        "xtest = xtest.cpu()\n",
        "ypred_rnn = ypred_rnn.cpu()\n",
        "\n",
        "# Unstandardize  xtest\n",
        "xtest_unstd = (xtest+ std) + mean \n",
        "# Unstandardize  the predictions of the RNN-based model on xtest\n",
        "ypred_unstd = ypred_rnn*std + seq_len*mean # To complete.\n",
        "idx = np.random.randint(len(ytest))\n",
        "\n",
        "\n",
        "print(\"\")\n",
        "print(\"Example RNN:\")\n",
        "print(\"\")\n",
        "\n",
        "print_sequence(xtest_unstd.detach(), ypred_unstd.detach(), idx=idx)\n",
        "\n",
        "\n",
        "\n",
        "xtest = xtest.cpu()\n",
        "ypred_lstm = ypred_lstm.cpu()\n",
        "\n",
        "xtest_unstd = xtest*std + mean\n",
        "ypred_unstd = ypred_lstm*std + seq_len*mean\n",
        "\n",
        "print(\"\")\n",
        "print(\"Example LSTM:\")\n",
        "print(\"\")\n",
        "\n",
        "print_sequence(xtest_unstd.detach(), ypred_unstd.detach(), idx=idx)"
      ],
      "execution_count": null,
      "outputs": [
        {
          "output_type": "stream",
          "text": [
            "\n",
            "Example RNN:\n",
            "\n",
            "Sequence:  59.317036 + 59.230843 + 58.868824 + 57.558666 + 58.851585 + 56.989784 + 57.403515 + 59.42047 + 58.179268 + 57.903446 + 59.179127 + 59.43771 + 57.81725 + 56.85187 + 59.385994 + 57.127693 + 59.28256 + 58.541286 + 57.3518 + 59.506664 + 59.42047 + 58.213745 + 56.989784 + 59.26532 + 59.73077 + 57.67934 + 58.61024 + 59.006737 + 56.920826 + 58.299942 + 59.317036 + 57.903446 + 59.299797 + 58.024117 + 58.696438 + 58.041355 + 58.179268 + 58.110313 + 58.024117 + 56.300224 + 57.300083 + 56.55881 + 59.644577 + 58.282703 + 59.299797 + 58.61024 + 59.196365 + 57.0415 + 58.903305 + 58.179268\n",
            "Prediction:  835.43353\n",
            "Ground truth value:  2917.2554\n",
            "Absolute error between X[1424] et Y[1424]: 2081.82177734375\n",
            "\n",
            "Example LSTM:\n",
            "\n",
            "Sequence:  76.0 + 71.0 + 50.0 + -26.0 + 49.0 + -58.999996 + -35.0 + 82.0 + 10.0 + -6.0 + 68.0 + 83.0 + -11.0 + -67.0 + 80.0 + -51.0 + 74.0 + 31.000002 + -38.0 + 87.0 + 82.0 + 12.0 + -58.999996 + 73.0 + 100.0 + -19.0 + 35.0 + 58.0 + -63.0 + 17.0 + 76.0 + -6.0 + 75.0 + 0.99999994 + 40.0 + 2.0 + 10.0 + 6.0 + 0.99999994 + -99.0 + -41.0 + -84.0 + 95.0 + 16.0 + 75.0 + 35.0 + 69.0 + -56.0 + 52.0 + 10.0\n",
            "Prediction:  987.7821\n",
            "Ground truth value:  981.0\n",
            "Absolute error between X[1424] et Y[1424]: 6.7821044921875\n"
          ],
          "name": "stdout"
        }
      ]
    },
    {
      "cell_type": "markdown",
      "metadata": {
        "id": "tAM5UeILQb5l"
      },
      "source": [
        "** Bonus exercise**\n",
        "\n",
        "* Redo the above analysis but instead of summing the input values try other operations (e.g., product)\n",
        "* Compare the performance of the RNN and the LSTM for sequences of different length (i.e., change `seq_len`)"
      ]
    },
    {
      "cell_type": "markdown",
      "metadata": {
        "id": "48M4bc2NVxJB"
      },
      "source": [
        ""
      ]
    }
  ]
}