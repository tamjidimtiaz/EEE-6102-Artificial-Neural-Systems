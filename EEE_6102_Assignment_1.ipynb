{
  "nbformat": 4,
  "nbformat_minor": 0,
  "metadata": {
    "colab": {
      "name": "EEE_6102_Assignment_1.ipynb",
      "provenance": [],
      "collapsed_sections": []
    },
    "kernelspec": {
      "name": "python3",
      "display_name": "Python 3"
    }
  },
  "cells": [
    {
      "cell_type": "markdown",
      "metadata": {
        "id": "Eq0DkKSeEoPx"
      },
      "source": [
        "# Artificial Neural Networks - Forward Propagation\n",
        "\n",
        "In this particular assignment, I am trying to implement the following contents.\n",
        "\n",
        "\n",
        "Contents\n",
        "1. Initalize a Network\n",
        "2. Compute Weighted Sum at Each Node\n",
        "3. Compute Node Activation\n",
        "4. Forward Propagation"
      ]
    },
    {
      "cell_type": "markdown",
      "metadata": {
        "id": "OGRnpGwYGHLo"
      },
      "source": [
        "# Initialize a network\n",
        "\n",
        "Let's start by formally defining the structure of the network. Here, we provide 2 inputs and 2 hidden layers. Each of the hidden layer comprises of two nodes. Finally, we have an output layer."
      ]
    },
    {
      "cell_type": "code",
      "metadata": {
        "id": "IKtgamLhGV-H"
      },
      "source": [
        "n = 2 # number of inputs\n",
        "num_hidden_layers = 2 # number of hidden layers\n",
        "m = [2, 2] # number of nodes in each hidden layer\n",
        "num_nodes_output = 1 # number of nodes in the output layer\n"
      ],
      "execution_count": 33,
      "outputs": []
    },
    {
      "cell_type": "markdown",
      "metadata": {
        "id": "V62DalWzGhjR"
      },
      "source": [
        "Now that we defined the structure of the network, let's go ahead and inititailize the weights and the biases in the network to random numbers. In order to be able to initialize the weights and the biases to random numbers, import the Numpy library is a pre-requisite. Then, an empty dictionary is used to initialize the network.  "
      ]
    },
    {
      "cell_type": "code",
      "metadata": {
        "colab": {
          "base_uri": "https://localhost:8080/"
        },
        "id": "qfNrSlFPGi9B",
        "outputId": "50192881-3982-4dc6-b3e8-f64e3f381a7f"
      },
      "source": [
        "import numpy as np # import the Numpy library\n",
        "\n",
        "num_nodes_previous = n # number of nodes in the previous layer\n",
        "\n",
        "network = {} # initialize network an an empty dictionary\n",
        "\n",
        "# loop through each layer and randomly initialize the weights and biases associated with each node\n",
        "# notice how we are adding 1 to the number of hidden layers in order to include the output layer\n",
        "for layer in range(num_hidden_layers + 1): \n",
        "    \n",
        "    # determine name of layer\n",
        "    if layer == num_hidden_layers:\n",
        "        layer_name = 'output'\n",
        "        num_nodes = num_nodes_output\n",
        "    else:\n",
        "        layer_name = 'layer_{}'.format(layer + 1)\n",
        "        num_nodes = m[layer]\n",
        "    \n",
        "    # initialize weights and biases associated with each node in the current layer\n",
        "    network[layer_name] = {}\n",
        "    for node in range(num_nodes):\n",
        "        node_name = 'node_{}'.format(node+1)\n",
        "        network[layer_name][node_name] = {\n",
        "            'weights': np.around(np.random.uniform(size=num_nodes_previous), decimals=2),\n",
        "            'bias': np.around(np.random.uniform(size=1), decimals=2),\n",
        "        }\n",
        "    \n",
        "    num_nodes_previous = num_nodes\n",
        "    \n",
        "print(network) # print network"
      ],
      "execution_count": 34,
      "outputs": [
        {
          "output_type": "stream",
          "text": [
            "{'layer_1': {'node_1': {'weights': array([0.92, 0.9 ]), 'bias': array([0.03])}, 'node_2': {'weights': array([0.96, 0.14]), 'bias': array([0.28])}}, 'layer_2': {'node_1': {'weights': array([0.61, 0.94]), 'bias': array([0.85])}, 'node_2': {'weights': array([0.  , 0.52]), 'bias': array([0.55])}}, 'output': {'node_1': {'weights': array([0.49, 0.77]), 'bias': array([0.16])}}}\n"
          ],
          "name": "stdout"
        }
      ]
    },
    {
      "cell_type": "markdown",
      "metadata": {
        "id": "mjWFEH_uG5yH"
      },
      "source": [
        "Awesome! So now with the above code, we are able to initialize the weights and the biases pertaining to any network of any number of hidden layers and number of nodes in each layer. But let's put this code in a function so that we are able to repetitively execute all this code whenever we want to construct a neural network. "
      ]
    },
    {
      "cell_type": "code",
      "metadata": {
        "id": "dyR9KfzRG70e"
      },
      "source": [
        "def initialize_network(num_inputs, num_hidden_layers, num_nodes_hidden, num_nodes_output):\n",
        "    \n",
        "    num_nodes_previous = num_inputs # number of nodes in the previous layer\n",
        "\n",
        "    network = {}\n",
        "    \n",
        "    # loop through each layer and randomly initialize the weights and biases associated with each layer\n",
        "    for layer in range(num_hidden_layers + 1):\n",
        "        \n",
        "        if layer == num_hidden_layers:\n",
        "            layer_name = 'output' # name last layer in the network output\n",
        "            num_nodes = num_nodes_output\n",
        "        else:\n",
        "            layer_name = 'layer_{}'.format(layer + 1) # otherwise give the layer a number\n",
        "            num_nodes = num_nodes_hidden[layer] \n",
        "        \n",
        "        # initialize weights and bias for each node\n",
        "        network[layer_name] = {}\n",
        "        for node in range(num_nodes):\n",
        "            node_name = 'node_{}'.format(node+1)\n",
        "            network[layer_name][node_name] = {\n",
        "                'weights': np.around(np.random.uniform(size=num_nodes_previous), decimals=2),\n",
        "                'bias': np.around(np.random.uniform(size=1), decimals=2),\n",
        "            }\n",
        "    \n",
        "        num_nodes_previous = num_nodes\n",
        "\n",
        "    return network # return the network"
      ],
      "execution_count": 35,
      "outputs": []
    },
    {
      "cell_type": "markdown",
      "metadata": {
        "id": "zTVgG8J2HHJY"
      },
      "source": [
        "Use the initialize_network function to create a network that:\n",
        "\n",
        "1. takes 5 inputs\n",
        "2. has three hidden layers\n",
        "3. has 3 nodes in the first layer, 2 nodes in the second layer, and 3 nodes in the third layer\n",
        "4. has 1 node in the output layer\n",
        "\n",
        "Lets call the network 'small_network'. The network will look like this:\n",
        "\n"
      ]
    },
    {
      "cell_type": "code",
      "metadata": {
        "id": "ThPu2dgoHVuJ",
        "colab": {
          "base_uri": "https://localhost:8080/"
        },
        "outputId": "7f031a6d-156f-4353-8380-6a530cca8c96"
      },
      "source": [
        "### a network called small_network is created which contains 5 inputs, three hidden layers(3 nodes in the first layer, 2 nodes in the second layer, \r\n",
        "### and 3 nodes in the third layer), 1 node in the output layer. \r\n",
        "small_network = initialize_network(5, 3, [3, 2, 3], 1)\r\n",
        "print(small_network)"
      ],
      "execution_count": 36,
      "outputs": [
        {
          "output_type": "stream",
          "text": [
            "{'layer_1': {'node_1': {'weights': array([0.76, 0.02, 0.14, 0.12, 0.31]), 'bias': array([0.67])}, 'node_2': {'weights': array([0.47, 0.82, 0.29, 0.73, 0.7 ]), 'bias': array([0.33])}, 'node_3': {'weights': array([0.33, 0.98, 0.62, 0.95, 0.77]), 'bias': array([0.83])}}, 'layer_2': {'node_1': {'weights': array([0.41, 0.45, 0.4 ]), 'bias': array([1.])}, 'node_2': {'weights': array([0.18, 0.96, 0.42]), 'bias': array([0.42])}}, 'layer_3': {'node_1': {'weights': array([0.46, 0.37]), 'bias': array([0.47])}, 'node_2': {'weights': array([0.04, 0.08]), 'bias': array([0.73])}, 'node_3': {'weights': array([0.64, 0.03]), 'bias': array([0.3])}}, 'output': {'node_1': {'weights': array([0.22, 0.06, 0.52]), 'bias': array([0.42])}}}\n"
          ],
          "name": "stdout"
        }
      ]
    },
    {
      "cell_type": "markdown",
      "metadata": {
        "id": "v12VD-iNHbEU"
      },
      "source": [
        "# Compute Weighted Sum at Each Node\n",
        "\n",
        "The weighted sum at each node is computed as the dot product of the inputs and the weights plus the bias. So let's create a function called compute_weighted_sum that does just that.\n"
      ]
    },
    {
      "cell_type": "code",
      "metadata": {
        "id": "MfVHTvswHe4Z"
      },
      "source": [
        "def compute_weighted_sum(inputs, weights, bias):\n",
        "    return np.sum(inputs * weights) + bias"
      ],
      "execution_count": 37,
      "outputs": []
    },
    {
      "cell_type": "markdown",
      "metadata": {
        "id": "9ychS7PCHkK-"
      },
      "source": [
        "Let's generate 5 inputs that we can feed to **small_network**."
      ]
    },
    {
      "cell_type": "code",
      "metadata": {
        "colab": {
          "base_uri": "https://localhost:8080/"
        },
        "id": "6KoewHxGEL_1",
        "outputId": "8f873053-ba50-498c-bdec-1e951314749f"
      },
      "source": [
        "from random import seed\n",
        "import numpy as np\n",
        "\n",
        "np.random.seed(12)\n",
        "inputs = np.around(np.random.uniform(size=5), decimals=2)\n",
        "\n",
        "print('The inputs to the network are {}'.format(inputs))"
      ],
      "execution_count": 38,
      "outputs": [
        {
          "output_type": "stream",
          "text": [
            "The inputs to the network are [0.15 0.74 0.26 0.53 0.01]\n"
          ],
          "name": "stdout"
        }
      ]
    },
    {
      "cell_type": "markdown",
      "metadata": {
        "id": "ZL8mOAffH2V0"
      },
      "source": [
        "Use the compute_weighted_sum function to compute the weighted sum at the first node in the first hidden layer. I have also calculate it by hands which is shown in below figure to verify the result."
      ]
    },
    {
      "cell_type": "code",
      "metadata": {
        "id": "xzwizdO3H3Ye",
        "colab": {
          "base_uri": "https://localhost:8080/"
        },
        "outputId": "e3d16af3-e174-45ea-c0c4-8d859fc8de87"
      },
      "source": [
        "### type your answer here\r\n",
        "weighted_sum = compute_weighted_sum(inputs, small_network['layer_1']['node_1']['weights'], small_network['layer_1']['node_1']['bias'])\r\n",
        "print(weighted_sum)"
      ],
      "execution_count": 39,
      "outputs": [
        {
          "output_type": "stream",
          "text": [
            "[0.9019]\n"
          ],
          "name": "stdout"
        }
      ]
    },
    {
      "cell_type": "markdown",
      "metadata": {
        "id": "VyFMyTS6H6H7"
      },
      "source": [
        "# Compute Node Activation\n",
        "\n",
        "Recall that the output of each node is simply a non-linear tranformation of the weighted sum. We use activation functions for this mapping. Let's use the sigmoid function as the activation function here. So let's define a function that takes a weighted sum as input and returns the non-linear transformation of the input using the sigmoid function.\n"
      ]
    },
    {
      "cell_type": "code",
      "metadata": {
        "id": "jylyif3eIBfu"
      },
      "source": [
        "def node_activation(weighted_sum):\n",
        "    return 1.0 / (1.0 + np.exp(-1 * weighted_sum))"
      ],
      "execution_count": 40,
      "outputs": []
    },
    {
      "cell_type": "markdown",
      "metadata": {
        "id": "uwxU6wavIIN1"
      },
      "source": [
        "Use the node_activation function to compute the output of the first node in the first hidden layer."
      ]
    },
    {
      "cell_type": "code",
      "metadata": {
        "id": "dwrCYwfUIJW0",
        "colab": {
          "base_uri": "https://localhost:8080/"
        },
        "outputId": "19640308-6e3e-4316-c2f5-32f8013eed8d"
      },
      "source": [
        "### type your answer here\r\n",
        "print(node_activation(weighted_sum))"
      ],
      "execution_count": 41,
      "outputs": [
        {
          "output_type": "stream",
          "text": [
            "[0.7113398]\n"
          ],
          "name": "stdout"
        }
      ]
    },
    {
      "cell_type": "markdown",
      "metadata": {
        "id": "JP7fJ9UmIOwF"
      },
      "source": [
        "# Forward Propagation\n",
        "\n",
        "The final piece of building a neural network that can perform predictions is to put everything together. So let's create a function that applies the compute_weighted_sum and node_activation functions to each node in the network and propagates the data all the way to the output layer and outputs a prediction for each node in the output layer.\n",
        "\n",
        "The way we are going to accomplish this is through the following procedure:\n",
        "\n",
        "1. Start with the input layer as the input to the first hidden layer.\n",
        "2. Compute the weighted sum at the nodes of the current layer.\n",
        "3. Compute the output of the nodes of the current layer.\n",
        "4. Set the output of the current layer to be the input to the next layer.\n",
        "5. Move to the next layer in the network.\n",
        "6. Repeat steps 2 - 4 until we compute the output of the output layer.\n",
        "\n"
      ]
    },
    {
      "cell_type": "code",
      "metadata": {
        "id": "WqBNh5U9Icj1"
      },
      "source": [
        "def forward_propagate(network, inputs):\n",
        "    \n",
        "    layer_inputs = list(inputs) # start with the input layer as the input to the first hidden layer\n",
        "    \n",
        "    for layer in network:\n",
        "        \n",
        "        layer_data = network[layer]\n",
        "        \n",
        "        layer_outputs = [] \n",
        "        for layer_node in layer_data:\n",
        "        \n",
        "            node_data = layer_data[layer_node]\n",
        "        \n",
        "            # compute the weighted sum and the output of each node at the same time \n",
        "            node_output = node_activation(compute_weighted_sum(layer_inputs, node_data['weights'], node_data['bias']))\n",
        "            layer_outputs.append(np.around(node_output[0], decimals=4))\n",
        "            \n",
        "        if layer != 'output':\n",
        "            print('The outputs of the nodes in hidden layer number {} is {}'.format(layer.split('_')[1], layer_outputs))\n",
        "    \n",
        "        layer_inputs = layer_outputs # set the output of this layer to be the input to next layer\n",
        "\n",
        "    network_predictions = layer_outputs\n",
        "    return network_predictions"
      ],
      "execution_count": 42,
      "outputs": []
    },
    {
      "cell_type": "markdown",
      "metadata": {
        "id": "yuEH7WwOIefr"
      },
      "source": [
        "Use the forward_propagate function to compute the prediction of our small network"
      ]
    },
    {
      "cell_type": "code",
      "metadata": {
        "id": "5gkic_TkIhXR",
        "colab": {
          "base_uri": "https://localhost:8080/"
        },
        "outputId": "e70ad9a0-e2cf-4e99-fdb0-0581d9d562da"
      },
      "source": [
        "### type your answser here\r\n",
        "prediction = forward_propagate(small_network, inputs)\r\n",
        "print(prediction)\r\n"
      ],
      "execution_count": 43,
      "outputs": [
        {
          "output_type": "stream",
          "text": [
            "The outputs of the nodes in hidden layer number 1 is [0.7113, 0.8141, 0.907]\n",
            "The outputs of the nodes in hidden layer number 2 is [0.883, 0.8469]\n",
            "The outputs of the nodes in hidden layer number 3 is [0.7667, 0.697, 0.709]\n",
            "[0.7309]\n"
          ],
          "name": "stdout"
        }
      ]
    },
    {
      "cell_type": "markdown",
      "metadata": {
        "id": "cwVN_XutYvxM"
      },
      "source": [
        "Now some experimentation have been done to create new feedforward networks. \r\n",
        "\r\n",
        "At first A network is implemented which contains 10 inputs, three hidden layers(4 nodes in the first layer, 5 nodes in the second layer, \r\n",
        "and 2 nodes in the third layer), 1 node in the output layer. The network is call 'New_network_1'. The network is initialized by using the function 'initialize_network'. Then inputs are created and then use the function 'forward_propagate'. "
      ]
    },
    {
      "cell_type": "code",
      "metadata": {
        "id": "-G_aovKcJdSz",
        "colab": {
          "base_uri": "https://localhost:8080/"
        },
        "outputId": "dc41068c-00fc-40cd-eeb6-e24455a01ad5"
      },
      "source": [
        "### create a network\r\n",
        "\r\n",
        "\r\n",
        "from random import seed\r\n",
        "import numpy as np\r\n",
        "\r\n",
        "np.random.seed(12)\r\n",
        "inputs = np.around(np.random.uniform(size=10), decimals=2)\r\n",
        "\r\n",
        "print('The inputs to the network are {}'.format(inputs))\r\n",
        "New_network_1 = initialize_network(10, 3, [4, 5, 2], 1)\r\n",
        "\r\n",
        "prediction = forward_propagate(New_network_1, inputs)\r\n",
        "print(prediction)"
      ],
      "execution_count": 44,
      "outputs": [
        {
          "output_type": "stream",
          "text": [
            "The inputs to the network are [0.15 0.74 0.26 0.53 0.01 0.92 0.9  0.03 0.96 0.14]\n",
            "The outputs of the nodes in hidden layer number 1 is [0.9758, 0.9319, 0.9643, 0.8912]\n",
            "The outputs of the nodes in hidden layer number 2 is [0.8083, 0.8493, 0.9465, 0.9477, 0.8472]\n",
            "The outputs of the nodes in hidden layer number 3 is [0.979, 0.9561]\n",
            "[0.8975]\n"
          ],
          "name": "stdout"
        }
      ]
    },
    {
      "cell_type": "markdown",
      "metadata": {
        "id": "-nlF4lPfbRNP"
      },
      "source": [
        "Another network is implemented which contains 10 inputs, five hidden layers(4 nodes in the first layer, 5 nodes in the second layer, 5 nodes in the third layer, 3 nodes in the forth layer, and 2 nodes in the fifth layer), 1 node in the output layer. The network is call 'New_network_2'. The network is initialized by using the function 'initialize_network'. Then inputs are created and then use the function 'forward_propagate'. "
      ]
    },
    {
      "cell_type": "code",
      "metadata": {
        "id": "_sQpuBWwJfkR",
        "colab": {
          "base_uri": "https://localhost:8080/"
        },
        "outputId": "ff8e6f44-ccb5-48bd-d121-1fbd72ad4aac"
      },
      "source": [
        "### create a network\r\n",
        "\r\n",
        "\r\n",
        "\r\n",
        "from random import seed\r\n",
        "import numpy as np\r\n",
        "\r\n",
        "np.random.seed(12)\r\n",
        "inputs = np.around(np.random.uniform(size=10), decimals=2)\r\n",
        "\r\n",
        "print('The inputs to the network are {}'.format(inputs))\r\n",
        "New_network_2 = initialize_network(10, 5, [4, 5, 5, 3, 2], 1)\r\n",
        "\r\n",
        "prediction = forward_propagate(New_network_2, inputs)\r\n",
        "print(prediction)"
      ],
      "execution_count": 45,
      "outputs": [
        {
          "output_type": "stream",
          "text": [
            "The inputs to the network are [0.15 0.74 0.26 0.53 0.01 0.92 0.9  0.03 0.96 0.14]\n",
            "The outputs of the nodes in hidden layer number 1 is [0.9758, 0.9319, 0.9643, 0.8912]\n",
            "The outputs of the nodes in hidden layer number 2 is [0.8083, 0.8493, 0.9465, 0.9477, 0.8472]\n",
            "The outputs of the nodes in hidden layer number 3 is [0.979, 0.9561, 0.9709, 0.9451, 0.9265]\n",
            "The outputs of the nodes in hidden layer number 4 is [0.9171, 0.9242, 0.9231]\n",
            "The outputs of the nodes in hidden layer number 5 is [0.8879, 0.7071]\n",
            "[0.6493]\n"
          ],
          "name": "stdout"
        }
      ]
    },
    {
      "cell_type": "markdown",
      "metadata": {
        "id": "GOT910wnJkHC"
      },
      "source": [
        "Thank you for completing this assignment!"
      ]
    },
    {
      "cell_type": "code",
      "metadata": {
        "id": "ligj-Fc9cDl0"
      },
      "source": [
        ""
      ],
      "execution_count": null,
      "outputs": []
    }
  ]
}