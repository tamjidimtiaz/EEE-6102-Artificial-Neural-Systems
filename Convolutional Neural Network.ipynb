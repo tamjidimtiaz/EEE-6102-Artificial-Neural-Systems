{
  "nbformat": 4,
  "nbformat_minor": 0,
  "metadata": {
    "colab": {
      "name": "EEE_6102_Assignment_3.ipynb",
      "provenance": [],
      "collapsed_sections": []
    },
    "kernelspec": {
      "name": "python3",
      "display_name": "Python 3"
    },
    "accelerator": "GPU"
  },
  "cells": [
    {
      "cell_type": "markdown",
      "metadata": {
        "id": "Eq0DkKSeEoPx"
      },
      "source": [
        "# Classification using Convolutional Neural Network\n",
        "\n",
        "# Introduction\n",
        "\n",
        "In this tutorial, we will learn how to use the Convolutional Neural Network (CNN) to build models for classificaiton problems. We will use the popular MNIST dataset, a dataset of images.\n",
        "\n",
        "The MNIST database, short for Modified National Institute of Standards and Technology database, is a large database of handwritten digits that is commonly used for training various image processing systems. The database is also widely used for training and testing in the field of machine learning.\n",
        "\n",
        "The MNIST database contains 60,000 training images and 10,000 testing images of digits written by high school students and employees of the United States Census Bureau.\n",
        "\n",
        "# Download the dataset\n",
        "\n",
        "The Keras library conveniently includes the MNIST dataset as part of its API. You can check other datasets within the Keras library [here](https://keras.io/api/datasets/).\n",
        "\n",
        "So, let's load the MNIST dataset from the Keras library. The dataset is readily divided into a training set and a test set.\n"
      ]
    },
    {
      "cell_type": "code",
      "metadata": {
        "id": "3Rf5FTOf8c8T"
      },
      "source": [
        "import keras\n",
        "\n",
        "# import the data\n",
        "from keras.datasets import mnist\n",
        "\n",
        "# read the data\n",
        "(X_train, y_train), (X_test, y_test) = mnist.load_data()"
      ],
      "execution_count": 1,
      "outputs": []
    },
    {
      "cell_type": "markdown",
      "metadata": {
        "id": "KV0ZzGHQ-Bqe"
      },
      "source": [
        "Let's confirm the number of images in each set. According to the dataset's documentation, we should have 60000 images in X_train and 10000 images in the X_test."
      ]
    },
    {
      "cell_type": "code",
      "metadata": {
        "id": "sPbJG3St-DjU",
        "colab": {
          "base_uri": "https://localhost:8080/"
        },
        "outputId": "0eaa844d-bfa3-4918-e287-e470831ecf38"
      },
      "source": [
        "# Compute the number of images in training and testing set.\r\n",
        "\r\n",
        "print(len(X_train))\r\n",
        "\r\n",
        "print(len(X_test))\r\n"
      ],
      "execution_count": 2,
      "outputs": [
        {
          "output_type": "stream",
          "text": [
            "60000\n",
            "10000\n"
          ],
          "name": "stdout"
        }
      ]
    },
    {
      "cell_type": "markdown",
      "metadata": {
        "id": "dNLKK8x-83mL"
      },
      "source": [
        "Let's visualize the first image in the training set using Matplotlib's scripting layer."
      ]
    },
    {
      "cell_type": "code",
      "metadata": {
        "id": "HfkgpMfx87Pk",
        "colab": {
          "base_uri": "https://localhost:8080/",
          "height": 283
        },
        "outputId": "2e1d9e30-81e3-4b32-cd9c-e41e0aba5dc3"
      },
      "source": [
        "# To complete\r\n",
        "\r\n",
        "import matplotlib.pyplot as plt\r\n",
        "\r\n",
        "plt.imshow(X_train[0])"
      ],
      "execution_count": 3,
      "outputs": [
        {
          "output_type": "execute_result",
          "data": {
            "text/plain": [
              "<matplotlib.image.AxesImage at 0x7fb90abb1d68>"
            ]
          },
          "metadata": {
            "tags": []
          },
          "execution_count": 3
        },
        {
          "output_type": "display_data",
          "data": {
            "image/png": "[encoded data removed]",
            "text/plain": [
              "<Figure size 432x288 with 1 Axes>"
            ]
          },
          "metadata": {
            "tags": [],
            "needs_background": "light"
          }
        }
      ]
    },
    {
      "cell_type": "code",
      "metadata": {
        "id": "Bn_SDS9GAy-e"
      },
      "source": [
        "# Next we need to prepare the data so that it is suitable for use training a CNN."
      ],
      "execution_count": 4,
      "outputs": []
    },
    {
      "cell_type": "code",
      "metadata": {
        "id": "sDXjX-2OBFEs"
      },
      "source": [
        "# reshape to be [samples][pixels][width][height]\n",
        "X_train = X_train.reshape(X_train.shape[0], 28, 28, 1).astype('float32')\n",
        "X_test = X_test.reshape(X_test.shape[0], 28, 28, 1).astype('float32')"
      ],
      "execution_count": 5,
      "outputs": []
    },
    {
      "cell_type": "markdown",
      "metadata": {
        "id": "kbfsLFwFBJxG"
      },
      "source": [
        "Let's normalize the pixel values to be between 0 and 1"
      ]
    },
    {
      "cell_type": "code",
      "metadata": {
        "id": "Nom5G8rTBMof"
      },
      "source": [
        "# Normalization of images\n",
        "X_train = (X_train - X_train.mean()) / X_train.std()\n",
        "X_test =  (X_test - X_test.mean()) / X_test.std()"
      ],
      "execution_count": 6,
      "outputs": []
    },
    {
      "cell_type": "markdown",
      "metadata": {
        "id": "VAOGd72LBUk0"
      },
      "source": [
        "Next, let's convert the target variable into one hot encoding"
      ]
    },
    {
      "cell_type": "code",
      "metadata": {
        "id": "iMDSt3xcBZ2k"
      },
      "source": [
        "from keras.utils import to_categorical\n",
        "\n",
        "y_train = to_categorical(y_train)\n",
        "y_test = to_categorical(y_test)\n",
        "\n",
        "# Here we have to classify the digits(0-9). so the number of classes will be 10\n",
        "num_classes = 10 # number of classes"
      ],
      "execution_count": 7,
      "outputs": []
    },
    {
      "cell_type": "markdown",
      "metadata": {
        "id": "cqjDhW_eDYKX"
      },
      "source": [
        "# Build and evaluate a neural network\n",
        "\n",
        "Next, let's define our neural network model. "
      ]
    },
    {
      "cell_type": "code",
      "metadata": {
        "id": "zGiN_LmYD0B5"
      },
      "source": [
        "from keras.models import Sequential\n",
        "from keras.layers.convolutional import Conv2D \n",
        "from keras.layers.convolutional import MaxPooling2D \n",
        "from keras.layers import Flatten \n",
        "from keras.layers import Dense\n",
        "def small_convnet():\n",
        "    \n",
        "    # create model\n",
        "    model = Sequential()\n",
        "    model.add(Conv2D(16, (5, 5), strides=(1, 1), activation='relu', input_shape=(28, 28, 1)))\n",
        "    model.add(MaxPooling2D(pool_size=(2, 2), strides=(2, 2)))\n",
        "    \n",
        "    model.add(Flatten())\n",
        "    model.add(Dense(100, activation='relu'))\n",
        "    model.add(Dense(num_classes, activation='softmax'))\n",
        "    \n",
        "    # compile model\n",
        "    model.compile(optimizer='adam', loss='categorical_crossentropy',  metrics=['accuracy'])\n",
        "    return model"
      ],
      "execution_count": 8,
      "outputs": []
    },
    {
      "cell_type": "markdown",
      "metadata": {
        "id": "rD5-Ac-5FUCg"
      },
      "source": [
        "Let's call the function to create the model, and then train it. The model is fit over 10 epochs with a batch size of 200."
      ]
    },
    {
      "cell_type": "code",
      "metadata": {
        "id": "Z7H89ZixFp9d",
        "colab": {
          "base_uri": "https://localhost:8080/"
        },
        "outputId": "117755e1-5fd2-447e-e44a-57c15efdca1d"
      },
      "source": [
        "# Call the small_convnet function to generate the model \n",
        "model = small_convnet()\n",
        "\n",
        "# fit the model\n",
        "model.fit(X_train, y_train, validation_data=(X_test, y_test), epochs=10, batch_size=200, verbose=2)"
      ],
      "execution_count": 9,
      "outputs": [
        {
          "output_type": "stream",
          "text": [
            "Epoch 1/10\n",
            "300/300 - 3s - loss: 0.2056 - accuracy: 0.9399 - val_loss: 0.0717 - val_accuracy: 0.9784\n",
            "Epoch 2/10\n",
            "300/300 - 1s - loss: 0.0628 - accuracy: 0.9812 - val_loss: 0.0523 - val_accuracy: 0.9826\n",
            "Epoch 3/10\n",
            "300/300 - 1s - loss: 0.0460 - accuracy: 0.9865 - val_loss: 0.0490 - val_accuracy: 0.9844\n",
            "Epoch 4/10\n",
            "300/300 - 1s - loss: 0.0342 - accuracy: 0.9898 - val_loss: 0.0431 - val_accuracy: 0.9862\n",
            "Epoch 5/10\n",
            "300/300 - 1s - loss: 0.0275 - accuracy: 0.9913 - val_loss: 0.0498 - val_accuracy: 0.9853\n",
            "Epoch 6/10\n",
            "300/300 - 1s - loss: 0.0220 - accuracy: 0.9930 - val_loss: 0.0367 - val_accuracy: 0.9880\n",
            "Epoch 7/10\n",
            "300/300 - 1s - loss: 0.0166 - accuracy: 0.9947 - val_loss: 0.0411 - val_accuracy: 0.9879\n",
            "Epoch 8/10\n",
            "300/300 - 1s - loss: 0.0144 - accuracy: 0.9955 - val_loss: 0.0387 - val_accuracy: 0.9876\n",
            "Epoch 9/10\n",
            "300/300 - 1s - loss: 0.0109 - accuracy: 0.9967 - val_loss: 0.0429 - val_accuracy: 0.9864\n",
            "Epoch 10/10\n",
            "300/300 - 1s - loss: 0.0093 - accuracy: 0.9971 - val_loss: 0.0476 - val_accuracy: 0.9862\n"
          ],
          "name": "stdout"
        },
        {
          "output_type": "execute_result",
          "data": {
            "text/plain": [
              "<tensorflow.python.keras.callbacks.History at 0x7fb8f00f7cc0>"
            ]
          },
          "metadata": {
            "tags": []
          },
          "execution_count": 9
        }
      ]
    },
    {
      "cell_type": "markdown",
      "metadata": {
        "id": "JxTFQz3uGRbl"
      },
      "source": [
        "Finally, evaluate the trained model."
      ]
    },
    {
      "cell_type": "code",
      "metadata": {
        "id": "MgyQdXB1Gboj",
        "colab": {
          "base_uri": "https://localhost:8080/"
        },
        "outputId": "7084b182-c76b-4901-fc14-3e6a3e4e8834"
      },
      "source": [
        "scores = model.evaluate(X_test, y_test, verbose=0)\n",
        "print(\"Accuracy: {} \\n Error: {}\".format(scores[1], 100-scores[1]*100))"
      ],
      "execution_count": 10,
      "outputs": [
        {
          "output_type": "stream",
          "text": [
            "Accuracy: 0.9861999750137329 \n",
            " Error: 1.380002498626709\n"
          ],
          "name": "stdout"
        }
      ]
    },
    {
      "cell_type": "markdown",
      "metadata": {
        "id": "jSxsYuQeHShP"
      },
      "source": [
        "## Tasks\n",
        "\n",
        "Let's redefine our convolutional model so that it is capable of close to state-of-the-art results. The required netwrok topology can be specified as follows:\n",
        "1. Convolutional layer with 30 feature maps of size 5x5.\n",
        "2. Pooling layer taking the max over 2x2 patches.\n",
        "3. Convolutional layer with 15 feature maps of size 3x3.\n",
        "4. Pooling layer taking the max over 2x2 patches.\n",
        "5. Dropout layer with a probability of 20%.\n",
        "6. Flatten layer.\n",
        "7. Fully connected layer with 128 neurons and rectifier activation.\n",
        "8. Fully connected layer with 50 neurons and rectifier activation.\n",
        "9. Output layer."
      ]
    },
    {
      "cell_type": "code",
      "metadata": {
        "id": "-rI0T38uHk3N"
      },
      "source": [
        "# Defining the given convolutional model\r\n",
        "from keras.layers import Dropout \r\n",
        "\r\n",
        "def new_conv_net():\r\n",
        "    \r\n",
        "    # create the model defined above\r\n",
        "    model = Sequential()\r\n",
        "    #First block comprises of Convolutional layer with 30 feature maps of size 5x5 and Pooling layer taking the max over 2x2 patches.\r\n",
        "    model.add(Conv2D(30, (5, 5), strides=(1, 1), activation='relu', input_shape=(28, 28, 1)))\r\n",
        "    model.add(MaxPooling2D(pool_size=(2, 2), strides=(1, 1)))\r\n",
        "    #Second block comprises of Convolutional layer with 15 feature maps of size 3x3 and Pooling layer taking the max over 2x2 patches.\r\n",
        "    model.add(Conv2D(15, (3, 3), strides=(1, 1), activation='relu'))\r\n",
        "    model.add(MaxPooling2D(pool_size=(2, 2), strides=(1, 1)))\r\n",
        "\r\n",
        "    #Dropout layer\r\n",
        "    model.add(Dropout(0.2))  \r\n",
        "\r\n",
        "    model.add(Flatten())\r\n",
        "    #Fully Connected Layers\r\n",
        "    model.add(Dense(128, activation='relu'))\r\n",
        "    model.add(Dense(50, activation='relu'))\r\n",
        "    model.add(Dense(num_classes, activation='softmax'))\r\n",
        "    \r\n",
        "    # compile model\r\n",
        "    model.compile(optimizer='adam', loss='categorical_crossentropy',  metrics=['accuracy'])\r\n",
        "    return model\r\n"
      ],
      "execution_count": 11,
      "outputs": []
    },
    {
      "cell_type": "markdown",
      "metadata": {
        "id": "CtyBXLHqHm5n"
      },
      "source": [
        "Now, let's call the function to create our new convolutional neural network, and then let's train it and evaluate it."
      ]
    },
    {
      "cell_type": "code",
      "metadata": {
        "id": "LCYwS-lGHob9",
        "colab": {
          "base_uri": "https://localhost:8080/"
        },
        "outputId": "ccb60442-0bb8-4415-bd7f-b8ee8e2500d7"
      },
      "source": [
        "# Call the newly defined convolutional Neural Network\r\n",
        "model = new_conv_net()\r\n",
        "model.summary()\r\n",
        "# fit the model\r\n",
        "model.fit(X_train, y_train, validation_data=(X_test, y_test), epochs=10, batch_size=200, verbose=1)"
      ],
      "execution_count": 12,
      "outputs": [
        {
          "output_type": "stream",
          "text": [
            "Model: \"sequential_1\"\n",
            "_________________________________________________________________\n",
            "Layer (type)                 Output Shape              Param #   \n",
            "=================================================================\n",
            "conv2d_1 (Conv2D)            (None, 24, 24, 30)        780       \n",
            "_________________________________________________________________\n",
            "max_pooling2d_1 (MaxPooling2 (None, 23, 23, 30)        0         \n",
            "_________________________________________________________________\n",
            "conv2d_2 (Conv2D)            (None, 21, 21, 15)        4065      \n",
            "_________________________________________________________________\n",
            "max_pooling2d_2 (MaxPooling2 (None, 20, 20, 15)        0         \n",
            "_________________________________________________________________\n",
            "dropout (Dropout)            (None, 20, 20, 15)        0         \n",
            "_________________________________________________________________\n",
            "flatten_1 (Flatten)          (None, 6000)              0         \n",
            "_________________________________________________________________\n",
            "dense_2 (Dense)              (None, 128)               768128    \n",
            "_________________________________________________________________\n",
            "dense_3 (Dense)              (None, 50)                6450      \n",
            "_________________________________________________________________\n",
            "dense_4 (Dense)              (None, 10)                510       \n",
            "=================================================================\n",
            "Total params: 779,933\n",
            "Trainable params: 779,933\n",
            "Non-trainable params: 0\n",
            "_________________________________________________________________\n",
            "Epoch 1/10\n",
            "300/300 [==============================] - 2s 6ms/step - loss: 0.3941 - accuracy: 0.8723 - val_loss: 0.0567 - val_accuracy: 0.9817\n",
            "Epoch 2/10\n",
            "300/300 [==============================] - 2s 6ms/step - loss: 0.0526 - accuracy: 0.9844 - val_loss: 0.0372 - val_accuracy: 0.9886\n",
            "Epoch 3/10\n",
            "300/300 [==============================] - 2s 6ms/step - loss: 0.0356 - accuracy: 0.9885 - val_loss: 0.0354 - val_accuracy: 0.9880\n",
            "Epoch 4/10\n",
            "300/300 [==============================] - 2s 6ms/step - loss: 0.0273 - accuracy: 0.9908 - val_loss: 0.0308 - val_accuracy: 0.9905\n",
            "Epoch 5/10\n",
            "300/300 [==============================] - 2s 6ms/step - loss: 0.0197 - accuracy: 0.9943 - val_loss: 0.0397 - val_accuracy: 0.9883\n",
            "Epoch 6/10\n",
            "300/300 [==============================] - 2s 6ms/step - loss: 0.0182 - accuracy: 0.9938 - val_loss: 0.0341 - val_accuracy: 0.9889\n",
            "Epoch 7/10\n",
            "300/300 [==============================] - 2s 6ms/step - loss: 0.0119 - accuracy: 0.9963 - val_loss: 0.0342 - val_accuracy: 0.9908\n",
            "Epoch 8/10\n",
            "300/300 [==============================] - 2s 6ms/step - loss: 0.0128 - accuracy: 0.9957 - val_loss: 0.0383 - val_accuracy: 0.9887\n",
            "Epoch 9/10\n",
            "300/300 [==============================] - 2s 6ms/step - loss: 0.0105 - accuracy: 0.9966 - val_loss: 0.0367 - val_accuracy: 0.9896\n",
            "Epoch 10/10\n",
            "300/300 [==============================] - 2s 6ms/step - loss: 0.0103 - accuracy: 0.9962 - val_loss: 0.0399 - val_accuracy: 0.9891\n"
          ],
          "name": "stdout"
        },
        {
          "output_type": "execute_result",
          "data": {
            "text/plain": [
              "<tensorflow.python.keras.callbacks.History at 0x7fb8a2d9ae80>"
            ]
          },
          "metadata": {
            "tags": []
          },
          "execution_count": 12
        }
      ]
    },
    {
      "cell_type": "code",
      "metadata": {
        "colab": {
          "base_uri": "https://localhost:8080/"
        },
        "id": "bQi_EtbupmkC",
        "outputId": "c1b5d1cb-5cf6-4c27-a13b-893afaa1f34c"
      },
      "source": [
        "scores = model.evaluate(X_test, y_test, verbose=0)\r\n",
        "print(\"Accuracy: {} \\n Error: {}\".format(scores[1], 100-scores[1]*100))"
      ],
      "execution_count": 13,
      "outputs": [
        {
          "output_type": "stream",
          "text": [
            "Accuracy: 0.9890999794006348 \n",
            " Error: 1.0900020599365234\n"
          ],
          "name": "stdout"
        }
      ]
    },
    {
      "cell_type": "markdown",
      "metadata": {
        "id": "05tN6gDgSWdO"
      },
      "source": [
        "Here, it is seen that the newly defined model actually improves the performance and decreased the error."
      ]
    },
    {
      "cell_type": "markdown",
      "metadata": {
        "id": "Mb_tI93DgNds"
      },
      "source": [
        "# Question-Answer Section: \r\n",
        "\r\n",
        "##Questions-1. \r\n",
        "How many parameters do we have in this second model? What percentage of the parameter does the last dense layer contribute w.r.t. the overall number of parameters? How many parameters are there in the pooling layers?\r\n",
        "\r\n",
        "##Answer:\r\n",
        "\r\n",
        "Here, From the model summary of the final model, it is seen that the second model has 779,933 parameters. The last dense layer contribute 510 parameters which is basically 0.065 percent of the overall number of parameters. \r\n",
        "\r\n",
        "It is also seen that, there is no learnable parameter in the pooling layers. It is realizable because pooling operation is a downsampling operation and it requires no learnable parameters.\r\n",
        "\r\n"
      ]
    },
    {
      "cell_type": "markdown",
      "metadata": {
        "id": "sp_3oI52n7UV"
      },
      "source": [
        "##Question-2: \r\n",
        "Use average pooling layer after each of the two convolution layer and compare the results.\r\n",
        "\r\n",
        "##Answer:\r\n",
        "To investigate the performance of average pooling layer in comparison with max pooling layer, the max pooling operation in the first two blocks is replaced by average pooling layers. The model is now defined as below:\r\n"
      ]
    },
    {
      "cell_type": "code",
      "metadata": {
        "id": "DiparQvsopjP"
      },
      "source": [
        "from keras.layers.convolutional import AveragePooling2D\r\n",
        "\r\n",
        "def new_conv_net():\r\n",
        "    \r\n",
        "    # create model\r\n",
        "    model = Sequential()\r\n",
        "    # Average pooling operation replace the max pooling operation in the final defined model.\r\n",
        "    model.add(Conv2D(30, (5, 5), strides=(1, 1), activation='relu', input_shape=(28, 28, 1)))\r\n",
        "    model.add(AveragePooling2D(pool_size=(2, 2), strides=(1, 1)))\r\n",
        "    model.add(Conv2D(15, (3, 3), strides=(1, 1), activation='relu'))\r\n",
        "    model.add(AveragePooling2D(pool_size=(2, 2), strides=(1, 1)))\r\n",
        "\r\n",
        "    model.add(Dropout(0.2))  \r\n",
        "\r\n",
        "    model.add(Flatten())\r\n",
        "    model.add(Dense(128, activation='relu'))\r\n",
        "    model.add(Dense(50, activation='relu'))\r\n",
        "    model.add(Dense(num_classes, activation='softmax'))\r\n",
        "    \r\n",
        "    # compile model\r\n",
        "    model.compile(optimizer='adam', loss='categorical_crossentropy',  metrics=['accuracy'])\r\n",
        "    return model"
      ],
      "execution_count": 14,
      "outputs": []
    },
    {
      "cell_type": "code",
      "metadata": {
        "colab": {
          "base_uri": "https://localhost:8080/"
        },
        "id": "rBGT1UC9pHbG",
        "outputId": "a8bdb814-4a8e-4476-918c-2339094a66c7"
      },
      "source": [
        "# To complete\r\n",
        "# To complete\r\n",
        "model = new_conv_net()\r\n",
        "model.summary()\r\n",
        "# fit the model\r\n",
        "model.fit(X_train, y_train, validation_data=(X_test, y_test), epochs=10, batch_size=200, verbose=1)"
      ],
      "execution_count": 15,
      "outputs": [
        {
          "output_type": "stream",
          "text": [
            "Model: \"sequential_2\"\n",
            "_________________________________________________________________\n",
            "Layer (type)                 Output Shape              Param #   \n",
            "=================================================================\n",
            "conv2d_3 (Conv2D)            (None, 24, 24, 30)        780       \n",
            "_________________________________________________________________\n",
            "average_pooling2d (AveragePo (None, 23, 23, 30)        0         \n",
            "_________________________________________________________________\n",
            "conv2d_4 (Conv2D)            (None, 21, 21, 15)        4065      \n",
            "_________________________________________________________________\n",
            "average_pooling2d_1 (Average (None, 20, 20, 15)        0         \n",
            "_________________________________________________________________\n",
            "dropout_1 (Dropout)          (None, 20, 20, 15)        0         \n",
            "_________________________________________________________________\n",
            "flatten_2 (Flatten)          (None, 6000)              0         \n",
            "_________________________________________________________________\n",
            "dense_5 (Dense)              (None, 128)               768128    \n",
            "_________________________________________________________________\n",
            "dense_6 (Dense)              (None, 50)                6450      \n",
            "_________________________________________________________________\n",
            "dense_7 (Dense)              (None, 10)                510       \n",
            "=================================================================\n",
            "Total params: 779,933\n",
            "Trainable params: 779,933\n",
            "Non-trainable params: 0\n",
            "_________________________________________________________________\n",
            "Epoch 1/10\n",
            "300/300 [==============================] - 2s 7ms/step - loss: 0.4149 - accuracy: 0.8732 - val_loss: 0.0558 - val_accuracy: 0.9828\n",
            "Epoch 2/10\n",
            "300/300 [==============================] - 2s 6ms/step - loss: 0.0640 - accuracy: 0.9802 - val_loss: 0.0398 - val_accuracy: 0.9860\n",
            "Epoch 3/10\n",
            "300/300 [==============================] - 2s 6ms/step - loss: 0.0420 - accuracy: 0.9867 - val_loss: 0.0496 - val_accuracy: 0.9845\n",
            "Epoch 4/10\n",
            "300/300 [==============================] - 2s 6ms/step - loss: 0.0349 - accuracy: 0.9889 - val_loss: 0.0428 - val_accuracy: 0.9847\n",
            "Epoch 5/10\n",
            "300/300 [==============================] - 2s 6ms/step - loss: 0.0250 - accuracy: 0.9921 - val_loss: 0.0422 - val_accuracy: 0.9851\n",
            "Epoch 6/10\n",
            "300/300 [==============================] - 2s 6ms/step - loss: 0.0253 - accuracy: 0.9913 - val_loss: 0.0369 - val_accuracy: 0.9883\n",
            "Epoch 7/10\n",
            "300/300 [==============================] - 2s 6ms/step - loss: 0.0202 - accuracy: 0.9934 - val_loss: 0.0350 - val_accuracy: 0.9881\n",
            "Epoch 8/10\n",
            "300/300 [==============================] - 2s 6ms/step - loss: 0.0143 - accuracy: 0.9956 - val_loss: 0.0397 - val_accuracy: 0.9877\n",
            "Epoch 9/10\n",
            "300/300 [==============================] - 2s 6ms/step - loss: 0.0132 - accuracy: 0.9955 - val_loss: 0.0376 - val_accuracy: 0.9893\n",
            "Epoch 10/10\n",
            "300/300 [==============================] - 2s 6ms/step - loss: 0.0128 - accuracy: 0.9953 - val_loss: 0.0321 - val_accuracy: 0.9911\n"
          ],
          "name": "stdout"
        },
        {
          "output_type": "execute_result",
          "data": {
            "text/plain": [
              "<tensorflow.python.keras.callbacks.History at 0x7fb8a3eef5f8>"
            ]
          },
          "metadata": {
            "tags": []
          },
          "execution_count": 15
        }
      ]
    },
    {
      "cell_type": "markdown",
      "metadata": {
        "id": "ZQvV7eksOG82"
      },
      "source": [
        "Now lets evaluate the model performance"
      ]
    },
    {
      "cell_type": "code",
      "metadata": {
        "colab": {
          "base_uri": "https://localhost:8080/"
        },
        "id": "EcuZFk3wpn04",
        "outputId": "37d59b43-6114-4aca-88f6-101c2e6b7a88"
      },
      "source": [
        "scores = model.evaluate(X_test, y_test, verbose=0)\r\n",
        "print(\"Accuracy: {} \\n Error: {}\".format(scores[1], 100-scores[1]*100))"
      ],
      "execution_count": 16,
      "outputs": [
        {
          "output_type": "stream",
          "text": [
            "Accuracy: 0.991100013256073 \n",
            " Error: 0.8899986743927002\n"
          ],
          "name": "stdout"
        }
      ]
    },
    {
      "cell_type": "markdown",
      "metadata": {
        "id": "Fl9227duOQBX"
      },
      "source": [
        "Here it is seen that the model performance is improved and the loss is decreased in comparison with the previous sitation where max pooling is used in place of average pooling."
      ]
    },
    {
      "cell_type": "markdown",
      "metadata": {
        "id": "xTecYldMpury"
      },
      "source": [
        "##Question-3:\r\n",
        " Does use of LeakyRelu help improve the accuracy?\r\n",
        "\r\n",
        "##Answer:\r\n",
        "\r\n",
        "ReLU is non-linear and has the advantage of not having any backpropagation errors unlike the sigmoid function, also for larger Neural Networks, the speed of building models based off on ReLU is very fast opposed to using Sigmoids. \r\n",
        "However, ReLUs aren’t without any drawbacks some of them are that ReLU is Non Zero centered and is non differentiable at Zero, but differentiable anywhere else.\r\n",
        "\r\n",
        "Another problem we see in ReLU is the Dying ReLU problem where some ReLU Neurons essentially die for all inputs and remain inactive no matter what input is supplied, here no gradient flows and if large number of dead neurons are there in a Neural Network its performance is affected, this can be corrected by making use of what is called Leaky ReLU where slope is changed left of x=0 in below figure and thus causing a leak and extending the range of ReLU.\r\n",
        "\r\n",
        "![Screenshot_2021-02-17 Activation Functions Sigmoid, ReLU, Leaky ReLU and Softmax basics for Neural Networks and Deep….png](data:image/png;base64,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)\r\n",
        "\r\n",
        "To investigate the performance of Activation function 'Leakyrelu', a two stage procedure is followed. \r\n",
        "\r\n",
        "At first stage, the leakyrelu activation function is used only in the convoltional blocks. But in the fully connected layers, 'relu' activation function will be used.  \r\n",
        "\r\n",
        "In the second stage, the leakyrelu activation function will be used in both convolutional blocks and fully connected layers.\r\n",
        "\r\n",
        "First, lets place the leaky relu operation in the convolutional blocks without changing the 'relu' activation function in the flly connected layers.\r\n",
        "\r\n"
      ]
    },
    {
      "cell_type": "code",
      "metadata": {
        "id": "J5keDGo9p4Sd"
      },
      "source": [
        "from keras.layers import LeakyReLU\r\n",
        "\r\n",
        "def new_conv_net():\r\n",
        "    \r\n",
        "    # create model\r\n",
        "    model = Sequential()\r\n",
        "    # 'Relu' Activation function is replaced by leakyrelu activation function. \r\n",
        "    #  Here, a small gradient alpha = 0.01 is allowed which is basically the negative slope coefficient.\r\n",
        "    model.add(Conv2D(30, (5, 5), strides=(1, 1), activation=LeakyReLU(alpha=0.01), input_shape=(28, 28, 1)))\r\n",
        "    model.add(AveragePooling2D(pool_size=(2, 2), strides=(1, 1)))\r\n",
        "\r\n",
        "    model.add(Conv2D(15, (3, 3), strides=(1, 1), activation=LeakyReLU(alpha=0.01)))\r\n",
        "    model.add(AveragePooling2D(pool_size=(2, 2), strides=(1, 1)))\r\n",
        "\r\n",
        "    model.add(Dropout(0.2))  \r\n",
        "\r\n",
        "    model.add(Flatten())\r\n",
        "    model.add(Dense(128, activation='relu'))\r\n",
        "    model.add(Dense(50, activation='relu'))\r\n",
        "    model.add(Dense(num_classes, activation='softmax'))\r\n",
        "    \r\n",
        "    # compile model\r\n",
        "    model.compile(optimizer='adam', loss='categorical_crossentropy',  metrics=['accuracy'])\r\n",
        "    return model"
      ],
      "execution_count": 17,
      "outputs": []
    },
    {
      "cell_type": "code",
      "metadata": {
        "colab": {
          "base_uri": "https://localhost:8080/"
        },
        "id": "UmgYbbiEqDwh",
        "outputId": "df2d04b2-8be5-4148-c2cc-581521a186f6"
      },
      "source": [
        "# Call the newly defined model\r\n",
        "model = new_conv_net()\r\n",
        "model.summary()\r\n",
        "# fit the model\r\n",
        "model.fit(X_train, y_train, validation_data=(X_test, y_test), epochs=10, batch_size=200, verbose=1)"
      ],
      "execution_count": 18,
      "outputs": [
        {
          "output_type": "stream",
          "text": [
            "Model: \"sequential_3\"\n",
            "_________________________________________________________________\n",
            "Layer (type)                 Output Shape              Param #   \n",
            "=================================================================\n",
            "conv2d_5 (Conv2D)            (None, 24, 24, 30)        780       \n",
            "_________________________________________________________________\n",
            "average_pooling2d_2 (Average (None, 23, 23, 30)        0         \n",
            "_________________________________________________________________\n",
            "conv2d_6 (Conv2D)            (None, 21, 21, 15)        4065      \n",
            "_________________________________________________________________\n",
            "average_pooling2d_3 (Average (None, 20, 20, 15)        0         \n",
            "_________________________________________________________________\n",
            "dropout_2 (Dropout)          (None, 20, 20, 15)        0         \n",
            "_________________________________________________________________\n",
            "flatten_3 (Flatten)          (None, 6000)              0         \n",
            "_________________________________________________________________\n",
            "dense_8 (Dense)              (None, 128)               768128    \n",
            "_________________________________________________________________\n",
            "dense_9 (Dense)              (None, 50)                6450      \n",
            "_________________________________________________________________\n",
            "dense_10 (Dense)             (None, 10)                510       \n",
            "=================================================================\n",
            "Total params: 779,933\n",
            "Trainable params: 779,933\n",
            "Non-trainable params: 0\n",
            "_________________________________________________________________\n",
            "Epoch 1/10\n",
            "300/300 [==============================] - 3s 7ms/step - loss: 0.4402 - accuracy: 0.8635 - val_loss: 0.0561 - val_accuracy: 0.9825\n",
            "Epoch 2/10\n",
            "300/300 [==============================] - 2s 6ms/step - loss: 0.0598 - accuracy: 0.9821 - val_loss: 0.0433 - val_accuracy: 0.9857\n",
            "Epoch 3/10\n",
            "300/300 [==============================] - 2s 6ms/step - loss: 0.0394 - accuracy: 0.9872 - val_loss: 0.0378 - val_accuracy: 0.9875\n",
            "Epoch 4/10\n",
            "300/300 [==============================] - 2s 6ms/step - loss: 0.0327 - accuracy: 0.9893 - val_loss: 0.0289 - val_accuracy: 0.9901\n",
            "Epoch 5/10\n",
            "300/300 [==============================] - 2s 6ms/step - loss: 0.0210 - accuracy: 0.9933 - val_loss: 0.0339 - val_accuracy: 0.9892\n",
            "Epoch 6/10\n",
            "300/300 [==============================] - 2s 7ms/step - loss: 0.0228 - accuracy: 0.9926 - val_loss: 0.0321 - val_accuracy: 0.9900\n",
            "Epoch 7/10\n",
            "300/300 [==============================] - 2s 6ms/step - loss: 0.0158 - accuracy: 0.9948 - val_loss: 0.0387 - val_accuracy: 0.9883\n",
            "Epoch 8/10\n",
            "300/300 [==============================] - 2s 6ms/step - loss: 0.0157 - accuracy: 0.9950 - val_loss: 0.0318 - val_accuracy: 0.9907\n",
            "Epoch 9/10\n",
            "300/300 [==============================] - 2s 6ms/step - loss: 0.0123 - accuracy: 0.9958 - val_loss: 0.0397 - val_accuracy: 0.9892\n",
            "Epoch 10/10\n",
            "300/300 [==============================] - 2s 6ms/step - loss: 0.0097 - accuracy: 0.9969 - val_loss: 0.0337 - val_accuracy: 0.9895\n"
          ],
          "name": "stdout"
        },
        {
          "output_type": "execute_result",
          "data": {
            "text/plain": [
              "<tensorflow.python.keras.callbacks.History at 0x7fb8a218fda0>"
            ]
          },
          "metadata": {
            "tags": []
          },
          "execution_count": 18
        }
      ]
    },
    {
      "cell_type": "markdown",
      "metadata": {
        "id": "JBI2cf1uT9OY"
      },
      "source": [
        "Now lets evaluate the model performance"
      ]
    },
    {
      "cell_type": "code",
      "metadata": {
        "colab": {
          "base_uri": "https://localhost:8080/"
        },
        "id": "tSLlXW5JqE_4",
        "outputId": "8a50fc5d-2867-4bdf-9bed-b0a7f2ecadaf"
      },
      "source": [
        "scores = model.evaluate(X_test, y_test, verbose=0)\r\n",
        "print(\"Accuracy: {} \\n Error: {}\".format(scores[1], 100-scores[1]*100))"
      ],
      "execution_count": 19,
      "outputs": [
        {
          "output_type": "stream",
          "text": [
            "Accuracy: 0.9894999861717224 \n",
            " Error: 1.0500013828277588\n"
          ],
          "name": "stdout"
        }
      ]
    },
    {
      "cell_type": "markdown",
      "metadata": {
        "id": "aazgfoLqTFnD"
      },
      "source": [
        "So, it is seen that use of leaky relu will in the convolutional layer doesn't help to improve the accuracy. Now we will move the second stage."
      ]
    },
    {
      "cell_type": "code",
      "metadata": {
        "id": "90UYI9H8tyhF"
      },
      "source": [
        "from keras.layers import LeakyReLU\r\n",
        "\r\n",
        "def new_conv_net():\r\n",
        "    \r\n",
        "    # create model\r\n",
        "    model = Sequential()\r\n",
        "    # 'Relu' Activation function is replaced by leakyrelu activation function. \r\n",
        "    #  Here, a small gradient alpha = 0.01 is allowed which is basically the negative slope coefficient.\r\n",
        "    model.add(Conv2D(30, (5, 5), strides=(1, 1), activation=LeakyReLU(alpha=0.01), input_shape=(28, 28, 1)))\r\n",
        "    model.add(AveragePooling2D(pool_size=(2, 2), strides=(1, 1)))\r\n",
        "\r\n",
        "    model.add(Conv2D(15, (3, 3), strides=(1, 1), activation=LeakyReLU(alpha=0.01)))\r\n",
        "    model.add(AveragePooling2D(pool_size=(2, 2), strides=(1, 1)))\r\n",
        "\r\n",
        "    model.add(Dropout(0.2))  \r\n",
        "\r\n",
        "    model.add(Flatten())\r\n",
        "    model.add(Dense(128, activation=LeakyReLU(alpha=0.01)))\r\n",
        "    model.add(Dense(50, activation=LeakyReLU(alpha=0.01)))\r\n",
        "    model.add(Dense(num_classes, activation='softmax'))\r\n",
        "    \r\n",
        "    # compile model\r\n",
        "    model.compile(optimizer='adam', loss='categorical_crossentropy',  metrics=['accuracy'])\r\n",
        "    return model"
      ],
      "execution_count": 20,
      "outputs": []
    },
    {
      "cell_type": "code",
      "metadata": {
        "colab": {
          "base_uri": "https://localhost:8080/"
        },
        "id": "VeZF4rudTeD8",
        "outputId": "fed9fad2-8c6e-407a-f610-41d26fe301a4"
      },
      "source": [
        "# Call the newly defined model\r\n",
        "model = new_conv_net()\r\n",
        "model.summary()\r\n",
        "# fit the model\r\n",
        "model.fit(X_train, y_train, validation_data=(X_test, y_test), epochs=10, batch_size=200, verbose=1)"
      ],
      "execution_count": 21,
      "outputs": [
        {
          "output_type": "stream",
          "text": [
            "Model: \"sequential_4\"\n",
            "_________________________________________________________________\n",
            "Layer (type)                 Output Shape              Param #   \n",
            "=================================================================\n",
            "conv2d_7 (Conv2D)            (None, 24, 24, 30)        780       \n",
            "_________________________________________________________________\n",
            "average_pooling2d_4 (Average (None, 23, 23, 30)        0         \n",
            "_________________________________________________________________\n",
            "conv2d_8 (Conv2D)            (None, 21, 21, 15)        4065      \n",
            "_________________________________________________________________\n",
            "average_pooling2d_5 (Average (None, 20, 20, 15)        0         \n",
            "_________________________________________________________________\n",
            "dropout_3 (Dropout)          (None, 20, 20, 15)        0         \n",
            "_________________________________________________________________\n",
            "flatten_4 (Flatten)          (None, 6000)              0         \n",
            "_________________________________________________________________\n",
            "dense_11 (Dense)             (None, 128)               768128    \n",
            "_________________________________________________________________\n",
            "dense_12 (Dense)             (None, 50)                6450      \n",
            "_________________________________________________________________\n",
            "dense_13 (Dense)             (None, 10)                510       \n",
            "=================================================================\n",
            "Total params: 779,933\n",
            "Trainable params: 779,933\n",
            "Non-trainable params: 0\n",
            "_________________________________________________________________\n",
            "Epoch 1/10\n",
            "300/300 [==============================] - 3s 7ms/step - loss: 0.4101 - accuracy: 0.8695 - val_loss: 0.0520 - val_accuracy: 0.9843\n",
            "Epoch 2/10\n",
            "300/300 [==============================] - 2s 7ms/step - loss: 0.0571 - accuracy: 0.9818 - val_loss: 0.0443 - val_accuracy: 0.9845\n",
            "Epoch 3/10\n",
            "300/300 [==============================] - 2s 6ms/step - loss: 0.0372 - accuracy: 0.9886 - val_loss: 0.0441 - val_accuracy: 0.9853\n",
            "Epoch 4/10\n",
            "300/300 [==============================] - 2s 6ms/step - loss: 0.0284 - accuracy: 0.9906 - val_loss: 0.0281 - val_accuracy: 0.9898\n",
            "Epoch 5/10\n",
            "300/300 [==============================] - 2s 6ms/step - loss: 0.0215 - accuracy: 0.9931 - val_loss: 0.0346 - val_accuracy: 0.9890\n",
            "Epoch 6/10\n",
            "300/300 [==============================] - 2s 6ms/step - loss: 0.0177 - accuracy: 0.9942 - val_loss: 0.0320 - val_accuracy: 0.9892\n",
            "Epoch 7/10\n",
            "300/300 [==============================] - 2s 6ms/step - loss: 0.0130 - accuracy: 0.9961 - val_loss: 0.0470 - val_accuracy: 0.9866\n",
            "Epoch 8/10\n",
            "300/300 [==============================] - 2s 6ms/step - loss: 0.0136 - accuracy: 0.9951 - val_loss: 0.0300 - val_accuracy: 0.9907\n",
            "Epoch 9/10\n",
            "300/300 [==============================] - 2s 6ms/step - loss: 0.0090 - accuracy: 0.9965 - val_loss: 0.0357 - val_accuracy: 0.9895\n",
            "Epoch 10/10\n",
            "300/300 [==============================] - 2s 6ms/step - loss: 0.0091 - accuracy: 0.9968 - val_loss: 0.0484 - val_accuracy: 0.9866\n"
          ],
          "name": "stdout"
        },
        {
          "output_type": "execute_result",
          "data": {
            "text/plain": [
              "<tensorflow.python.keras.callbacks.History at 0x7fb89a733b00>"
            ]
          },
          "metadata": {
            "tags": []
          },
          "execution_count": 21
        }
      ]
    },
    {
      "cell_type": "markdown",
      "metadata": {
        "id": "TMzCtp6gT_na"
      },
      "source": [
        "Now lets evaluate the model performance"
      ]
    },
    {
      "cell_type": "code",
      "metadata": {
        "colab": {
          "base_uri": "https://localhost:8080/"
        },
        "id": "UNdqM54iTet2",
        "outputId": "1b5dc8b4-a941-42a3-8899-00dfed8b10c7"
      },
      "source": [
        "scores = model.evaluate(X_test, y_test, verbose=0)\r\n",
        "print(\"Accuracy: {} \\n Error: {}\".format(scores[1], 100-scores[1]*100))"
      ],
      "execution_count": 22,
      "outputs": [
        {
          "output_type": "stream",
          "text": [
            "Accuracy: 0.9865999817848206 \n",
            " Error: 1.3400018215179443\n"
          ],
          "name": "stdout"
        }
      ]
    },
    {
      "cell_type": "markdown",
      "metadata": {
        "id": "gUfsoBBqTlw_"
      },
      "source": [
        "Now it is seen that use of leakyrelu in all the layers even decrease the performace of the model."
      ]
    }
  ]
}
